{
 "cells": [
  {
   "cell_type": "markdown",
   "id": "0d040e7f",
   "metadata": {},
   "source": [
    "# Final Project"
   ]
  },
  {
   "cell_type": "code",
   "execution_count": 1,
   "id": "b8dca7f0",
   "metadata": {},
   "outputs": [],
   "source": [
    "import pandas as pd\n",
    "import numpy as np\n",
    "import seaborn as sns\n",
    "import matplotlib.pyplot as plt\n",
    "from datetime import date\n",
    "from datetime import timedelta\n",
    "import statsmodels.api as sm\n",
    "from sklearn.cluster import KMeans\n",
    "from sklearn.linear_model import LinearRegression\n",
    "import statsmodels.formula.api as smf\n",
    "from sklearn.metrics import r2_score\n",
    "from statsmodels.tsa.api import ExponentialSmoothing,SimpleExpSmoothing,Holt\n",
    "from sklearn.metrics import mean_squared_error\n",
    "from math import sqrt\n",
    "from scipy import stats\n",
    "from sklearn.model_selection import train_test_split\n",
    "from sklearn.metrics import accuracy_score\n",
    "from sklearn.metrics import confusion_matrix\n",
    "from sklearn.ensemble import RandomForestClassifier\n",
    "from sklearn import metrics\n",
    "from sklearn.model_selection import GridSearchCV\n",
    "from sklearn import preprocessing\n",
    "from sklearn.neighbors import KNeighborsClassifier\n",
    "from sklearn.metrics import precision_recall_curve\n",
    "from sklearn.tree import DecisionTreeClassifier\n",
    "from sklearn.metrics import classification_report\n",
    "from sklearn.linear_model import LogisticRegression"
   ]
  },
  {
   "cell_type": "markdown",
   "id": "3be7eca9",
   "metadata": {},
   "source": [
    "# Summary Stats"
   ]
  },
  {
   "cell_type": "code",
   "execution_count": 2,
   "id": "8f259553",
   "metadata": {},
   "outputs": [],
   "source": [
    "am=pd.read_csv(r\"angels_market.csv\")"
   ]
  },
  {
   "cell_type": "code",
   "execution_count": 3,
   "id": "abda750a",
   "metadata": {},
   "outputs": [
    {
     "data": {
      "text/html": [
       "<div>\n",
       "<style scoped>\n",
       "    .dataframe tbody tr th:only-of-type {\n",
       "        vertical-align: middle;\n",
       "    }\n",
       "\n",
       "    .dataframe tbody tr th {\n",
       "        vertical-align: top;\n",
       "    }\n",
       "\n",
       "    .dataframe thead th {\n",
       "        text-align: right;\n",
       "    }\n",
       "</style>\n",
       "<table border=\"1\" class=\"dataframe\">\n",
       "  <thead>\n",
       "    <tr style=\"text-align: right;\">\n",
       "      <th></th>\n",
       "      <th>vendorID</th>\n",
       "      <th>theme</th>\n",
       "      <th>homeState</th>\n",
       "      <th>carnivals</th>\n",
       "      <th>complaints</th>\n",
       "      <th>est_energy</th>\n",
       "      <th>est_hourly_vol</th>\n",
       "      <th>LL_passholder</th>\n",
       "      <th>est_hourly_gross</th>\n",
       "    </tr>\n",
       "  </thead>\n",
       "  <tbody>\n",
       "    <tr>\n",
       "      <th>0</th>\n",
       "      <td>1</td>\n",
       "      <td>Hot Chocolate/Warm Treats</td>\n",
       "      <td>Maine</td>\n",
       "      <td>3</td>\n",
       "      <td>9</td>\n",
       "      <td>57.291961</td>\n",
       "      <td>118</td>\n",
       "      <td>0</td>\n",
       "      <td>217.93</td>\n",
       "    </tr>\n",
       "    <tr>\n",
       "      <th>1</th>\n",
       "      <td>2</td>\n",
       "      <td>Local Artists</td>\n",
       "      <td>Vermont</td>\n",
       "      <td>1</td>\n",
       "      <td>2</td>\n",
       "      <td>39.404898</td>\n",
       "      <td>105</td>\n",
       "      <td>1</td>\n",
       "      <td>209.51</td>\n",
       "    </tr>\n",
       "    <tr>\n",
       "      <th>2</th>\n",
       "      <td>3</td>\n",
       "      <td>Fortune Teller</td>\n",
       "      <td>New Hampshire</td>\n",
       "      <td>5</td>\n",
       "      <td>4</td>\n",
       "      <td>47.175958</td>\n",
       "      <td>94</td>\n",
       "      <td>0</td>\n",
       "      <td>200.68</td>\n",
       "    </tr>\n",
       "    <tr>\n",
       "      <th>3</th>\n",
       "      <td>4</td>\n",
       "      <td>Fried Dough and Pizza</td>\n",
       "      <td>Maine</td>\n",
       "      <td>8</td>\n",
       "      <td>0</td>\n",
       "      <td>58.192568</td>\n",
       "      <td>118</td>\n",
       "      <td>0</td>\n",
       "      <td>251.40</td>\n",
       "    </tr>\n",
       "    <tr>\n",
       "      <th>4</th>\n",
       "      <td>5</td>\n",
       "      <td>craft beer</td>\n",
       "      <td>New Hampshire</td>\n",
       "      <td>7</td>\n",
       "      <td>6</td>\n",
       "      <td>56.657908</td>\n",
       "      <td>102</td>\n",
       "      <td>0</td>\n",
       "      <td>168.76</td>\n",
       "    </tr>\n",
       "  </tbody>\n",
       "</table>\n",
       "</div>"
      ],
      "text/plain": [
       "   vendorID                      theme      homeState  carnivals  complaints  \\\n",
       "0         1  Hot Chocolate/Warm Treats          Maine          3           9   \n",
       "1         2              Local Artists        Vermont          1           2   \n",
       "2         3             Fortune Teller  New Hampshire          5           4   \n",
       "3         4      Fried Dough and Pizza          Maine          8           0   \n",
       "4         5                 craft beer  New Hampshire          7           6   \n",
       "\n",
       "   est_energy  est_hourly_vol  LL_passholder  est_hourly_gross  \n",
       "0   57.291961             118              0            217.93  \n",
       "1   39.404898             105              1            209.51  \n",
       "2   47.175958              94              0            200.68  \n",
       "3   58.192568             118              0            251.40  \n",
       "4   56.657908             102              0            168.76  "
      ]
     },
     "execution_count": 3,
     "metadata": {},
     "output_type": "execute_result"
    }
   ],
   "source": [
    "am.head()"
   ]
  },
  {
   "cell_type": "code",
   "execution_count": 4,
   "id": "a2353871",
   "metadata": {},
   "outputs": [
    {
     "data": {
      "text/plain": [
       "vendorID            0\n",
       "theme               0\n",
       "homeState           0\n",
       "carnivals           0\n",
       "complaints          0\n",
       "est_energy          0\n",
       "est_hourly_vol      0\n",
       "LL_passholder       0\n",
       "est_hourly_gross    0\n",
       "dtype: int64"
      ]
     },
     "execution_count": 4,
     "metadata": {},
     "output_type": "execute_result"
    }
   ],
   "source": [
    "am.isnull().sum()"
   ]
  },
  {
   "cell_type": "code",
   "execution_count": 5,
   "id": "206e786a",
   "metadata": {},
   "outputs": [
    {
     "data": {
      "text/html": [
       "<div>\n",
       "<style scoped>\n",
       "    .dataframe tbody tr th:only-of-type {\n",
       "        vertical-align: middle;\n",
       "    }\n",
       "\n",
       "    .dataframe tbody tr th {\n",
       "        vertical-align: top;\n",
       "    }\n",
       "\n",
       "    .dataframe thead th {\n",
       "        text-align: right;\n",
       "    }\n",
       "</style>\n",
       "<table border=\"1\" class=\"dataframe\">\n",
       "  <thead>\n",
       "    <tr style=\"text-align: right;\">\n",
       "      <th></th>\n",
       "      <th>vendorID</th>\n",
       "      <th>carnivals</th>\n",
       "      <th>complaints</th>\n",
       "      <th>est_energy</th>\n",
       "      <th>est_hourly_vol</th>\n",
       "      <th>LL_passholder</th>\n",
       "      <th>est_hourly_gross</th>\n",
       "    </tr>\n",
       "  </thead>\n",
       "  <tbody>\n",
       "    <tr>\n",
       "      <th>count</th>\n",
       "      <td>700.000000</td>\n",
       "      <td>700.000000</td>\n",
       "      <td>700.000000</td>\n",
       "      <td>700.000000</td>\n",
       "      <td>700.000000</td>\n",
       "      <td>700.000000</td>\n",
       "      <td>700.000000</td>\n",
       "    </tr>\n",
       "    <tr>\n",
       "      <th>mean</th>\n",
       "      <td>345.375714</td>\n",
       "      <td>5.135714</td>\n",
       "      <td>5.237143</td>\n",
       "      <td>47.501858</td>\n",
       "      <td>110.152857</td>\n",
       "      <td>0.204286</td>\n",
       "      <td>216.543357</td>\n",
       "    </tr>\n",
       "    <tr>\n",
       "      <th>std</th>\n",
       "      <td>204.173508</td>\n",
       "      <td>2.202258</td>\n",
       "      <td>4.914525</td>\n",
       "      <td>14.172002</td>\n",
       "      <td>15.903799</td>\n",
       "      <td>0.403467</td>\n",
       "      <td>41.561560</td>\n",
       "    </tr>\n",
       "    <tr>\n",
       "      <th>min</th>\n",
       "      <td>1.000000</td>\n",
       "      <td>0.000000</td>\n",
       "      <td>0.000000</td>\n",
       "      <td>3.069903</td>\n",
       "      <td>1.000000</td>\n",
       "      <td>0.000000</td>\n",
       "      <td>4.000000</td>\n",
       "    </tr>\n",
       "    <tr>\n",
       "      <th>25%</th>\n",
       "      <td>167.750000</td>\n",
       "      <td>4.000000</td>\n",
       "      <td>0.000000</td>\n",
       "      <td>39.596198</td>\n",
       "      <td>103.000000</td>\n",
       "      <td>0.000000</td>\n",
       "      <td>193.810000</td>\n",
       "    </tr>\n",
       "    <tr>\n",
       "      <th>50%</th>\n",
       "      <td>346.500000</td>\n",
       "      <td>5.000000</td>\n",
       "      <td>4.500000</td>\n",
       "      <td>47.955097</td>\n",
       "      <td>110.500000</td>\n",
       "      <td>0.000000</td>\n",
       "      <td>217.490000</td>\n",
       "    </tr>\n",
       "    <tr>\n",
       "      <th>75%</th>\n",
       "      <td>521.250000</td>\n",
       "      <td>7.000000</td>\n",
       "      <td>9.000000</td>\n",
       "      <td>57.336190</td>\n",
       "      <td>119.000000</td>\n",
       "      <td>0.000000</td>\n",
       "      <td>242.502500</td>\n",
       "    </tr>\n",
       "    <tr>\n",
       "      <th>max</th>\n",
       "      <td>700.000000</td>\n",
       "      <td>13.000000</td>\n",
       "      <td>20.000000</td>\n",
       "      <td>91.567936</td>\n",
       "      <td>147.000000</td>\n",
       "      <td>1.000000</td>\n",
       "      <td>322.570000</td>\n",
       "    </tr>\n",
       "  </tbody>\n",
       "</table>\n",
       "</div>"
      ],
      "text/plain": [
       "         vendorID   carnivals  complaints  est_energy  est_hourly_vol  \\\n",
       "count  700.000000  700.000000  700.000000  700.000000      700.000000   \n",
       "mean   345.375714    5.135714    5.237143   47.501858      110.152857   \n",
       "std    204.173508    2.202258    4.914525   14.172002       15.903799   \n",
       "min      1.000000    0.000000    0.000000    3.069903        1.000000   \n",
       "25%    167.750000    4.000000    0.000000   39.596198      103.000000   \n",
       "50%    346.500000    5.000000    4.500000   47.955097      110.500000   \n",
       "75%    521.250000    7.000000    9.000000   57.336190      119.000000   \n",
       "max    700.000000   13.000000   20.000000   91.567936      147.000000   \n",
       "\n",
       "       LL_passholder  est_hourly_gross  \n",
       "count     700.000000        700.000000  \n",
       "mean        0.204286        216.543357  \n",
       "std         0.403467         41.561560  \n",
       "min         0.000000          4.000000  \n",
       "25%         0.000000        193.810000  \n",
       "50%         0.000000        217.490000  \n",
       "75%         0.000000        242.502500  \n",
       "max         1.000000        322.570000  "
      ]
     },
     "execution_count": 5,
     "metadata": {},
     "output_type": "execute_result"
    }
   ],
   "source": [
    "am.describe()"
   ]
  },
  {
   "cell_type": "code",
   "execution_count": 6,
   "id": "87d394a6",
   "metadata": {},
   "outputs": [
    {
     "data": {
      "text/html": [
       "<div>\n",
       "<style scoped>\n",
       "    .dataframe tbody tr th:only-of-type {\n",
       "        vertical-align: middle;\n",
       "    }\n",
       "\n",
       "    .dataframe tbody tr th {\n",
       "        vertical-align: top;\n",
       "    }\n",
       "\n",
       "    .dataframe thead th {\n",
       "        text-align: right;\n",
       "    }\n",
       "</style>\n",
       "<table border=\"1\" class=\"dataframe\">\n",
       "  <thead>\n",
       "    <tr style=\"text-align: right;\">\n",
       "      <th></th>\n",
       "      <th>count</th>\n",
       "      <th>mean</th>\n",
       "      <th>std</th>\n",
       "      <th>min</th>\n",
       "      <th>25%</th>\n",
       "      <th>50%</th>\n",
       "      <th>75%</th>\n",
       "      <th>max</th>\n",
       "    </tr>\n",
       "    <tr>\n",
       "      <th>theme</th>\n",
       "      <th></th>\n",
       "      <th></th>\n",
       "      <th></th>\n",
       "      <th></th>\n",
       "      <th></th>\n",
       "      <th></th>\n",
       "      <th></th>\n",
       "      <th></th>\n",
       "    </tr>\n",
       "  </thead>\n",
       "  <tbody>\n",
       "    <tr>\n",
       "      <th>3</th>\n",
       "      <td>1.0</td>\n",
       "      <td>6.000000</td>\n",
       "      <td>NaN</td>\n",
       "      <td>6.00</td>\n",
       "      <td>6.0000</td>\n",
       "      <td>6.000</td>\n",
       "      <td>6.0000</td>\n",
       "      <td>6.00</td>\n",
       "    </tr>\n",
       "    <tr>\n",
       "      <th>4</th>\n",
       "      <td>1.0</td>\n",
       "      <td>8.000000</td>\n",
       "      <td>NaN</td>\n",
       "      <td>8.00</td>\n",
       "      <td>8.0000</td>\n",
       "      <td>8.000</td>\n",
       "      <td>8.0000</td>\n",
       "      <td>8.00</td>\n",
       "    </tr>\n",
       "    <tr>\n",
       "      <th>5</th>\n",
       "      <td>2.0</td>\n",
       "      <td>6.500000</td>\n",
       "      <td>2.121320</td>\n",
       "      <td>5.00</td>\n",
       "      <td>5.7500</td>\n",
       "      <td>6.500</td>\n",
       "      <td>7.2500</td>\n",
       "      <td>8.00</td>\n",
       "    </tr>\n",
       "    <tr>\n",
       "      <th>7</th>\n",
       "      <td>2.0</td>\n",
       "      <td>7.500000</td>\n",
       "      <td>0.707107</td>\n",
       "      <td>7.00</td>\n",
       "      <td>7.2500</td>\n",
       "      <td>7.500</td>\n",
       "      <td>7.7500</td>\n",
       "      <td>8.00</td>\n",
       "    </tr>\n",
       "    <tr>\n",
       "      <th>8</th>\n",
       "      <td>1.0</td>\n",
       "      <td>7.000000</td>\n",
       "      <td>NaN</td>\n",
       "      <td>7.00</td>\n",
       "      <td>7.0000</td>\n",
       "      <td>7.000</td>\n",
       "      <td>7.0000</td>\n",
       "      <td>7.00</td>\n",
       "    </tr>\n",
       "    <tr>\n",
       "      <th>9</th>\n",
       "      <td>1.0</td>\n",
       "      <td>4.000000</td>\n",
       "      <td>NaN</td>\n",
       "      <td>4.00</td>\n",
       "      <td>4.0000</td>\n",
       "      <td>4.000</td>\n",
       "      <td>4.0000</td>\n",
       "      <td>4.00</td>\n",
       "    </tr>\n",
       "    <tr>\n",
       "      <th>Canadian Snacks</th>\n",
       "      <td>74.0</td>\n",
       "      <td>221.436892</td>\n",
       "      <td>32.846742</td>\n",
       "      <td>124.75</td>\n",
       "      <td>201.3850</td>\n",
       "      <td>219.380</td>\n",
       "      <td>241.6525</td>\n",
       "      <td>281.79</td>\n",
       "    </tr>\n",
       "    <tr>\n",
       "      <th>DIY Ice Sculpture</th>\n",
       "      <td>19.0</td>\n",
       "      <td>222.981053</td>\n",
       "      <td>30.426289</td>\n",
       "      <td>146.03</td>\n",
       "      <td>203.4200</td>\n",
       "      <td>235.810</td>\n",
       "      <td>245.6150</td>\n",
       "      <td>263.95</td>\n",
       "    </tr>\n",
       "    <tr>\n",
       "      <th>Fortune Teller</th>\n",
       "      <td>9.0</td>\n",
       "      <td>207.072222</td>\n",
       "      <td>24.840857</td>\n",
       "      <td>175.46</td>\n",
       "      <td>196.1000</td>\n",
       "      <td>200.680</td>\n",
       "      <td>211.0900</td>\n",
       "      <td>263.86</td>\n",
       "    </tr>\n",
       "    <tr>\n",
       "      <th>Fried Dough and Pizza</th>\n",
       "      <td>75.0</td>\n",
       "      <td>219.167333</td>\n",
       "      <td>33.469934</td>\n",
       "      <td>144.95</td>\n",
       "      <td>196.2050</td>\n",
       "      <td>217.500</td>\n",
       "      <td>240.0800</td>\n",
       "      <td>291.67</td>\n",
       "    </tr>\n",
       "    <tr>\n",
       "      <th>Games Of Chance</th>\n",
       "      <td>85.0</td>\n",
       "      <td>222.085176</td>\n",
       "      <td>32.229983</td>\n",
       "      <td>144.69</td>\n",
       "      <td>203.1500</td>\n",
       "      <td>219.060</td>\n",
       "      <td>242.2700</td>\n",
       "      <td>304.66</td>\n",
       "    </tr>\n",
       "    <tr>\n",
       "      <th>Homemade Holiday Gifts</th>\n",
       "      <td>104.0</td>\n",
       "      <td>215.885385</td>\n",
       "      <td>35.286296</td>\n",
       "      <td>81.29</td>\n",
       "      <td>199.5650</td>\n",
       "      <td>217.720</td>\n",
       "      <td>238.9900</td>\n",
       "      <td>286.68</td>\n",
       "    </tr>\n",
       "    <tr>\n",
       "      <th>Hot Chocolate/Warm Treats</th>\n",
       "      <td>113.0</td>\n",
       "      <td>214.720354</td>\n",
       "      <td>34.439647</td>\n",
       "      <td>147.03</td>\n",
       "      <td>186.1400</td>\n",
       "      <td>208.810</td>\n",
       "      <td>240.6000</td>\n",
       "      <td>289.43</td>\n",
       "    </tr>\n",
       "    <tr>\n",
       "      <th>Local Artists</th>\n",
       "      <td>74.0</td>\n",
       "      <td>224.376216</td>\n",
       "      <td>33.268683</td>\n",
       "      <td>168.56</td>\n",
       "      <td>199.9550</td>\n",
       "      <td>223.995</td>\n",
       "      <td>243.4200</td>\n",
       "      <td>322.57</td>\n",
       "    </tr>\n",
       "    <tr>\n",
       "      <th>Local Politician</th>\n",
       "      <td>10.0</td>\n",
       "      <td>222.541000</td>\n",
       "      <td>53.044376</td>\n",
       "      <td>144.15</td>\n",
       "      <td>179.8125</td>\n",
       "      <td>225.930</td>\n",
       "      <td>261.2800</td>\n",
       "      <td>294.42</td>\n",
       "    </tr>\n",
       "    <tr>\n",
       "      <th>Maine Tourism Promotion</th>\n",
       "      <td>15.0</td>\n",
       "      <td>215.484000</td>\n",
       "      <td>39.236643</td>\n",
       "      <td>134.64</td>\n",
       "      <td>196.3300</td>\n",
       "      <td>215.290</td>\n",
       "      <td>227.9650</td>\n",
       "      <td>298.84</td>\n",
       "    </tr>\n",
       "    <tr>\n",
       "      <th>Specialty Ice Cream</th>\n",
       "      <td>30.0</td>\n",
       "      <td>217.727333</td>\n",
       "      <td>46.960541</td>\n",
       "      <td>137.75</td>\n",
       "      <td>181.8300</td>\n",
       "      <td>212.875</td>\n",
       "      <td>251.2225</td>\n",
       "      <td>305.13</td>\n",
       "    </tr>\n",
       "    <tr>\n",
       "      <th>Steaming Hot Cocktails</th>\n",
       "      <td>42.0</td>\n",
       "      <td>218.952381</td>\n",
       "      <td>37.998176</td>\n",
       "      <td>146.69</td>\n",
       "      <td>186.3550</td>\n",
       "      <td>217.465</td>\n",
       "      <td>250.4350</td>\n",
       "      <td>296.16</td>\n",
       "    </tr>\n",
       "    <tr>\n",
       "      <th>Video Game/eSports</th>\n",
       "      <td>23.0</td>\n",
       "      <td>217.996522</td>\n",
       "      <td>36.144350</td>\n",
       "      <td>138.03</td>\n",
       "      <td>204.8950</td>\n",
       "      <td>225.590</td>\n",
       "      <td>235.5000</td>\n",
       "      <td>273.78</td>\n",
       "    </tr>\n",
       "    <tr>\n",
       "      <th>craft beer</th>\n",
       "      <td>19.0</td>\n",
       "      <td>221.432105</td>\n",
       "      <td>41.563303</td>\n",
       "      <td>146.69</td>\n",
       "      <td>191.8300</td>\n",
       "      <td>228.270</td>\n",
       "      <td>246.9250</td>\n",
       "      <td>285.85</td>\n",
       "    </tr>\n",
       "  </tbody>\n",
       "</table>\n",
       "</div>"
      ],
      "text/plain": [
       "                           count        mean        std     min       25%  \\\n",
       "theme                                                                       \n",
       "3                            1.0    6.000000        NaN    6.00    6.0000   \n",
       "4                            1.0    8.000000        NaN    8.00    8.0000   \n",
       "5                            2.0    6.500000   2.121320    5.00    5.7500   \n",
       "7                            2.0    7.500000   0.707107    7.00    7.2500   \n",
       "8                            1.0    7.000000        NaN    7.00    7.0000   \n",
       "9                            1.0    4.000000        NaN    4.00    4.0000   \n",
       "Canadian Snacks             74.0  221.436892  32.846742  124.75  201.3850   \n",
       "DIY Ice Sculpture           19.0  222.981053  30.426289  146.03  203.4200   \n",
       "Fortune Teller               9.0  207.072222  24.840857  175.46  196.1000   \n",
       "Fried Dough and Pizza       75.0  219.167333  33.469934  144.95  196.2050   \n",
       "Games Of Chance             85.0  222.085176  32.229983  144.69  203.1500   \n",
       "Homemade Holiday Gifts     104.0  215.885385  35.286296   81.29  199.5650   \n",
       "Hot Chocolate/Warm Treats  113.0  214.720354  34.439647  147.03  186.1400   \n",
       "Local Artists               74.0  224.376216  33.268683  168.56  199.9550   \n",
       "Local Politician            10.0  222.541000  53.044376  144.15  179.8125   \n",
       "Maine Tourism Promotion     15.0  215.484000  39.236643  134.64  196.3300   \n",
       "Specialty Ice Cream         30.0  217.727333  46.960541  137.75  181.8300   \n",
       "Steaming Hot Cocktails      42.0  218.952381  37.998176  146.69  186.3550   \n",
       "Video Game/eSports          23.0  217.996522  36.144350  138.03  204.8950   \n",
       "craft beer                  19.0  221.432105  41.563303  146.69  191.8300   \n",
       "\n",
       "                               50%       75%     max  \n",
       "theme                                                 \n",
       "3                            6.000    6.0000    6.00  \n",
       "4                            8.000    8.0000    8.00  \n",
       "5                            6.500    7.2500    8.00  \n",
       "7                            7.500    7.7500    8.00  \n",
       "8                            7.000    7.0000    7.00  \n",
       "9                            4.000    4.0000    4.00  \n",
       "Canadian Snacks            219.380  241.6525  281.79  \n",
       "DIY Ice Sculpture          235.810  245.6150  263.95  \n",
       "Fortune Teller             200.680  211.0900  263.86  \n",
       "Fried Dough and Pizza      217.500  240.0800  291.67  \n",
       "Games Of Chance            219.060  242.2700  304.66  \n",
       "Homemade Holiday Gifts     217.720  238.9900  286.68  \n",
       "Hot Chocolate/Warm Treats  208.810  240.6000  289.43  \n",
       "Local Artists              223.995  243.4200  322.57  \n",
       "Local Politician           225.930  261.2800  294.42  \n",
       "Maine Tourism Promotion    215.290  227.9650  298.84  \n",
       "Specialty Ice Cream        212.875  251.2225  305.13  \n",
       "Steaming Hot Cocktails     217.465  250.4350  296.16  \n",
       "Video Game/eSports         225.590  235.5000  273.78  \n",
       "craft beer                 228.270  246.9250  285.85  "
      ]
     },
     "execution_count": 6,
     "metadata": {},
     "output_type": "execute_result"
    }
   ],
   "source": [
    "am.groupby('theme')['est_hourly_gross'].describe()"
   ]
  },
  {
   "cell_type": "markdown",
   "id": "349e9148",
   "metadata": {},
   "source": [
    "first observation was that the dataset contains 6 themes, that are not labelled correctly. This can be due to a data entry error, or vendors with extremely unique themes that did not show up due to scheduling conflicts or insufficient resources to set up their stalls. The latter is more liekly the case, becuase the hourly gross and energy consumption associated with these themes are almost negligible in comparision to the rest of the themes.\n",
    "Furthermore, we see that Local Artists generate the highest average hourly income among all other vendor themes."
   ]
  },
  {
   "cell_type": "code",
   "execution_count": 7,
   "id": "5eee9eee",
   "metadata": {},
   "outputs": [
    {
     "data": {
      "text/plain": [
       "complaints\n",
       "0     192\n",
       "5      46\n",
       "3      46\n",
       "9      43\n",
       "6      43\n",
       "7      41\n",
       "8      39\n",
       "1      39\n",
       "4      38\n",
       "2      35\n",
       "11     26\n",
       "10     23\n",
       "12     22\n",
       "13     18\n",
       "14     15\n",
       "17     12\n",
       "15      9\n",
       "16      6\n",
       "20      3\n",
       "19      2\n",
       "18      2\n",
       "Name: count, dtype: int64"
      ]
     },
     "execution_count": 7,
     "metadata": {},
     "output_type": "execute_result"
    }
   ],
   "source": [
    "am['complaints'].value_counts()"
   ]
  },
  {
   "cell_type": "markdown",
   "id": "95f5d53f",
   "metadata": {},
   "source": [
    "192/700=27.42% of the time, customers have had no complaints filed against the vendors in previous carnivals. These would be the safest options for\n",
    "Lobsterland to select for their angels market. However, a glaring limitation with this dataset is the severity of the complaints. If regular complaints can be\n",
    "different from severe complaints, it would be easier for Lobsterland management to select vendors with no serious complaints filed in their past visits."
   ]
  },
  {
   "cell_type": "code",
   "execution_count": 8,
   "id": "efa58f81",
   "metadata": {},
   "outputs": [
    {
     "data": {
      "text/plain": [
       "Index(['vendorID', 'theme', 'homeState', 'carnivals', 'complaints',\n",
       "       'est_energy', 'est_hourly_vol', 'LL_passholder', 'est_hourly_gross'],\n",
       "      dtype='object')"
      ]
     },
     "execution_count": 8,
     "metadata": {},
     "output_type": "execute_result"
    }
   ],
   "source": [
    "am.columns"
   ]
  },
  {
   "cell_type": "code",
   "execution_count": 9,
   "id": "93a7bb26",
   "metadata": {},
   "outputs": [
    {
     "data": {
      "text/html": [
       "<div>\n",
       "<style scoped>\n",
       "    .dataframe tbody tr th:only-of-type {\n",
       "        vertical-align: middle;\n",
       "    }\n",
       "\n",
       "    .dataframe tbody tr th {\n",
       "        vertical-align: top;\n",
       "    }\n",
       "\n",
       "    .dataframe thead th {\n",
       "        text-align: right;\n",
       "    }\n",
       "</style>\n",
       "<table border=\"1\" class=\"dataframe\">\n",
       "  <thead>\n",
       "    <tr style=\"text-align: right;\">\n",
       "      <th></th>\n",
       "      <th>complaints</th>\n",
       "      <th>est_energy</th>\n",
       "      <th>est_hourly_vol</th>\n",
       "      <th>LL_passholder</th>\n",
       "      <th>est_hourly_gross</th>\n",
       "    </tr>\n",
       "    <tr>\n",
       "      <th>carnivals</th>\n",
       "      <th></th>\n",
       "      <th></th>\n",
       "      <th></th>\n",
       "      <th></th>\n",
       "      <th></th>\n",
       "    </tr>\n",
       "  </thead>\n",
       "  <tbody>\n",
       "    <tr>\n",
       "      <th>0</th>\n",
       "      <td>0.000000</td>\n",
       "      <td>53.063056</td>\n",
       "      <td>121.666667</td>\n",
       "      <td>0.333333</td>\n",
       "      <td>262.243333</td>\n",
       "    </tr>\n",
       "    <tr>\n",
       "      <th>1</th>\n",
       "      <td>6.103448</td>\n",
       "      <td>49.618059</td>\n",
       "      <td>111.137931</td>\n",
       "      <td>0.206897</td>\n",
       "      <td>211.392759</td>\n",
       "    </tr>\n",
       "    <tr>\n",
       "      <th>2</th>\n",
       "      <td>4.977273</td>\n",
       "      <td>49.382926</td>\n",
       "      <td>112.636364</td>\n",
       "      <td>0.250000</td>\n",
       "      <td>219.491364</td>\n",
       "    </tr>\n",
       "    <tr>\n",
       "      <th>3</th>\n",
       "      <td>5.451220</td>\n",
       "      <td>48.877076</td>\n",
       "      <td>110.426829</td>\n",
       "      <td>0.134146</td>\n",
       "      <td>223.403293</td>\n",
       "    </tr>\n",
       "    <tr>\n",
       "      <th>4</th>\n",
       "      <td>5.065574</td>\n",
       "      <td>46.268356</td>\n",
       "      <td>111.581967</td>\n",
       "      <td>0.213115</td>\n",
       "      <td>218.328033</td>\n",
       "    </tr>\n",
       "    <tr>\n",
       "      <th>5</th>\n",
       "      <td>5.210526</td>\n",
       "      <td>46.254998</td>\n",
       "      <td>108.248120</td>\n",
       "      <td>0.225564</td>\n",
       "      <td>214.606541</td>\n",
       "    </tr>\n",
       "    <tr>\n",
       "      <th>6</th>\n",
       "      <td>5.859813</td>\n",
       "      <td>48.024971</td>\n",
       "      <td>109.392523</td>\n",
       "      <td>0.196262</td>\n",
       "      <td>213.119720</td>\n",
       "    </tr>\n",
       "    <tr>\n",
       "      <th>7</th>\n",
       "      <td>5.180723</td>\n",
       "      <td>45.633131</td>\n",
       "      <td>110.373494</td>\n",
       "      <td>0.180723</td>\n",
       "      <td>213.287831</td>\n",
       "    </tr>\n",
       "    <tr>\n",
       "      <th>8</th>\n",
       "      <td>4.381818</td>\n",
       "      <td>47.858361</td>\n",
       "      <td>110.054545</td>\n",
       "      <td>0.236364</td>\n",
       "      <td>220.763273</td>\n",
       "    </tr>\n",
       "    <tr>\n",
       "      <th>9</th>\n",
       "      <td>4.360000</td>\n",
       "      <td>51.035565</td>\n",
       "      <td>111.360000</td>\n",
       "      <td>0.200000</td>\n",
       "      <td>223.352000</td>\n",
       "    </tr>\n",
       "    <tr>\n",
       "      <th>10</th>\n",
       "      <td>4.333333</td>\n",
       "      <td>53.554833</td>\n",
       "      <td>111.333333</td>\n",
       "      <td>0.333333</td>\n",
       "      <td>203.035000</td>\n",
       "    </tr>\n",
       "    <tr>\n",
       "      <th>11</th>\n",
       "      <td>10.200000</td>\n",
       "      <td>50.731888</td>\n",
       "      <td>106.800000</td>\n",
       "      <td>0.200000</td>\n",
       "      <td>197.976000</td>\n",
       "    </tr>\n",
       "    <tr>\n",
       "      <th>12</th>\n",
       "      <td>4.000000</td>\n",
       "      <td>54.071423</td>\n",
       "      <td>109.500000</td>\n",
       "      <td>0.000000</td>\n",
       "      <td>175.115000</td>\n",
       "    </tr>\n",
       "    <tr>\n",
       "      <th>13</th>\n",
       "      <td>5.000000</td>\n",
       "      <td>39.578069</td>\n",
       "      <td>93.500000</td>\n",
       "      <td>0.250000</td>\n",
       "      <td>179.262500</td>\n",
       "    </tr>\n",
       "  </tbody>\n",
       "</table>\n",
       "</div>"
      ],
      "text/plain": [
       "           complaints  est_energy  est_hourly_vol  LL_passholder  \\\n",
       "carnivals                                                          \n",
       "0            0.000000   53.063056      121.666667       0.333333   \n",
       "1            6.103448   49.618059      111.137931       0.206897   \n",
       "2            4.977273   49.382926      112.636364       0.250000   \n",
       "3            5.451220   48.877076      110.426829       0.134146   \n",
       "4            5.065574   46.268356      111.581967       0.213115   \n",
       "5            5.210526   46.254998      108.248120       0.225564   \n",
       "6            5.859813   48.024971      109.392523       0.196262   \n",
       "7            5.180723   45.633131      110.373494       0.180723   \n",
       "8            4.381818   47.858361      110.054545       0.236364   \n",
       "9            4.360000   51.035565      111.360000       0.200000   \n",
       "10           4.333333   53.554833      111.333333       0.333333   \n",
       "11          10.200000   50.731888      106.800000       0.200000   \n",
       "12           4.000000   54.071423      109.500000       0.000000   \n",
       "13           5.000000   39.578069       93.500000       0.250000   \n",
       "\n",
       "           est_hourly_gross  \n",
       "carnivals                    \n",
       "0                262.243333  \n",
       "1                211.392759  \n",
       "2                219.491364  \n",
       "3                223.403293  \n",
       "4                218.328033  \n",
       "5                214.606541  \n",
       "6                213.119720  \n",
       "7                213.287831  \n",
       "8                220.763273  \n",
       "9                223.352000  \n",
       "10               203.035000  \n",
       "11               197.976000  \n",
       "12               175.115000  \n",
       "13               179.262500  "
      ]
     },
     "execution_count": 9,
     "metadata": {},
     "output_type": "execute_result"
    }
   ],
   "source": [
    "am[['carnivals', 'complaints','est_energy', 'est_hourly_vol', 'LL_passholder', 'est_hourly_gross']].groupby('carnivals').mean()"
   ]
  },
  {
   "cell_type": "markdown",
   "id": "d86f97c0",
   "metadata": {},
   "source": [
    "By looking at the different number of carnivals the vendors have appeared in, we can see that the average estimated hourly volume of customers is the highest\n",
    "for a vendor with 0 past carnival apperances, amounting to 121 per hour. Visitors at Lobsterland seem to enjoy exploring new vendors they have not seen at\n",
    "other parks before. The repetitiveness seems to bore customers, as we see how the hourly volume decreases with number of carnival visits."
   ]
  },
  {
   "cell_type": "code",
   "execution_count": 10,
   "id": "00b857a7",
   "metadata": {},
   "outputs": [
    {
     "data": {
      "text/html": [
       "<div>\n",
       "<style scoped>\n",
       "    .dataframe tbody tr th:only-of-type {\n",
       "        vertical-align: middle;\n",
       "    }\n",
       "\n",
       "    .dataframe tbody tr th {\n",
       "        vertical-align: top;\n",
       "    }\n",
       "\n",
       "    .dataframe thead th {\n",
       "        text-align: right;\n",
       "    }\n",
       "</style>\n",
       "<table border=\"1\" class=\"dataframe\">\n",
       "  <thead>\n",
       "    <tr style=\"text-align: right;\">\n",
       "      <th>homeState</th>\n",
       "      <th>2</th>\n",
       "      <th>4</th>\n",
       "      <th>5</th>\n",
       "      <th>6</th>\n",
       "      <th>7</th>\n",
       "      <th>Connecticut</th>\n",
       "      <th>Maine</th>\n",
       "      <th>Massachusetts</th>\n",
       "      <th>New Hampshire</th>\n",
       "      <th>Ontario</th>\n",
       "      <th>Quebec</th>\n",
       "      <th>Vermont</th>\n",
       "      <th>All</th>\n",
       "    </tr>\n",
       "    <tr>\n",
       "      <th>carnivals</th>\n",
       "      <th></th>\n",
       "      <th></th>\n",
       "      <th></th>\n",
       "      <th></th>\n",
       "      <th></th>\n",
       "      <th></th>\n",
       "      <th></th>\n",
       "      <th></th>\n",
       "      <th></th>\n",
       "      <th></th>\n",
       "      <th></th>\n",
       "      <th></th>\n",
       "      <th></th>\n",
       "    </tr>\n",
       "  </thead>\n",
       "  <tbody>\n",
       "    <tr>\n",
       "      <th>0</th>\n",
       "      <td>NaN</td>\n",
       "      <td>NaN</td>\n",
       "      <td>NaN</td>\n",
       "      <td>NaN</td>\n",
       "      <td>NaN</td>\n",
       "      <td>NaN</td>\n",
       "      <td>67.347419</td>\n",
       "      <td>NaN</td>\n",
       "      <td>NaN</td>\n",
       "      <td>24.494331</td>\n",
       "      <td>NaN</td>\n",
       "      <td>NaN</td>\n",
       "      <td>53.063056</td>\n",
       "    </tr>\n",
       "    <tr>\n",
       "      <th>1</th>\n",
       "      <td>NaN</td>\n",
       "      <td>NaN</td>\n",
       "      <td>NaN</td>\n",
       "      <td>NaN</td>\n",
       "      <td>NaN</td>\n",
       "      <td>70.402830</td>\n",
       "      <td>51.466190</td>\n",
       "      <td>15.123110</td>\n",
       "      <td>51.413808</td>\n",
       "      <td>NaN</td>\n",
       "      <td>53.613292</td>\n",
       "      <td>41.397680</td>\n",
       "      <td>49.618059</td>\n",
       "    </tr>\n",
       "    <tr>\n",
       "      <th>2</th>\n",
       "      <td>NaN</td>\n",
       "      <td>NaN</td>\n",
       "      <td>NaN</td>\n",
       "      <td>NaN</td>\n",
       "      <td>NaN</td>\n",
       "      <td>39.321509</td>\n",
       "      <td>49.078409</td>\n",
       "      <td>43.918733</td>\n",
       "      <td>55.899673</td>\n",
       "      <td>38.874815</td>\n",
       "      <td>59.411244</td>\n",
       "      <td>50.979621</td>\n",
       "      <td>49.382926</td>\n",
       "    </tr>\n",
       "    <tr>\n",
       "      <th>3</th>\n",
       "      <td>NaN</td>\n",
       "      <td>NaN</td>\n",
       "      <td>NaN</td>\n",
       "      <td>NaN</td>\n",
       "      <td>NaN</td>\n",
       "      <td>49.074666</td>\n",
       "      <td>50.051878</td>\n",
       "      <td>49.420920</td>\n",
       "      <td>43.738546</td>\n",
       "      <td>56.671071</td>\n",
       "      <td>48.582257</td>\n",
       "      <td>42.437416</td>\n",
       "      <td>48.877076</td>\n",
       "    </tr>\n",
       "    <tr>\n",
       "      <th>4</th>\n",
       "      <td>NaN</td>\n",
       "      <td>NaN</td>\n",
       "      <td>NaN</td>\n",
       "      <td>NaN</td>\n",
       "      <td>NaN</td>\n",
       "      <td>45.274890</td>\n",
       "      <td>45.303136</td>\n",
       "      <td>52.379832</td>\n",
       "      <td>48.519645</td>\n",
       "      <td>54.678973</td>\n",
       "      <td>40.910528</td>\n",
       "      <td>56.145917</td>\n",
       "      <td>46.268356</td>\n",
       "    </tr>\n",
       "    <tr>\n",
       "      <th>5</th>\n",
       "      <td>8.0</td>\n",
       "      <td>9.0</td>\n",
       "      <td>NaN</td>\n",
       "      <td>NaN</td>\n",
       "      <td>5.0</td>\n",
       "      <td>48.751408</td>\n",
       "      <td>47.293545</td>\n",
       "      <td>45.295418</td>\n",
       "      <td>45.015961</td>\n",
       "      <td>NaN</td>\n",
       "      <td>44.111371</td>\n",
       "      <td>50.188556</td>\n",
       "      <td>46.254998</td>\n",
       "    </tr>\n",
       "    <tr>\n",
       "      <th>6</th>\n",
       "      <td>NaN</td>\n",
       "      <td>NaN</td>\n",
       "      <td>8.000000</td>\n",
       "      <td>NaN</td>\n",
       "      <td>NaN</td>\n",
       "      <td>53.089609</td>\n",
       "      <td>47.941747</td>\n",
       "      <td>37.817052</td>\n",
       "      <td>46.709815</td>\n",
       "      <td>50.529512</td>\n",
       "      <td>51.100199</td>\n",
       "      <td>55.107976</td>\n",
       "      <td>48.024971</td>\n",
       "    </tr>\n",
       "    <tr>\n",
       "      <th>7</th>\n",
       "      <td>NaN</td>\n",
       "      <td>NaN</td>\n",
       "      <td>NaN</td>\n",
       "      <td>NaN</td>\n",
       "      <td>NaN</td>\n",
       "      <td>46.444979</td>\n",
       "      <td>44.287974</td>\n",
       "      <td>39.836256</td>\n",
       "      <td>47.052452</td>\n",
       "      <td>56.012285</td>\n",
       "      <td>54.580078</td>\n",
       "      <td>37.524340</td>\n",
       "      <td>45.633131</td>\n",
       "    </tr>\n",
       "    <tr>\n",
       "      <th>8</th>\n",
       "      <td>NaN</td>\n",
       "      <td>NaN</td>\n",
       "      <td>4.000000</td>\n",
       "      <td>NaN</td>\n",
       "      <td>5.0</td>\n",
       "      <td>60.632120</td>\n",
       "      <td>48.504658</td>\n",
       "      <td>44.061156</td>\n",
       "      <td>44.141029</td>\n",
       "      <td>19.427950</td>\n",
       "      <td>42.512826</td>\n",
       "      <td>71.248596</td>\n",
       "      <td>47.858361</td>\n",
       "    </tr>\n",
       "    <tr>\n",
       "      <th>9</th>\n",
       "      <td>NaN</td>\n",
       "      <td>NaN</td>\n",
       "      <td>NaN</td>\n",
       "      <td>NaN</td>\n",
       "      <td>NaN</td>\n",
       "      <td>NaN</td>\n",
       "      <td>46.064036</td>\n",
       "      <td>NaN</td>\n",
       "      <td>56.671373</td>\n",
       "      <td>74.965392</td>\n",
       "      <td>55.387458</td>\n",
       "      <td>63.861334</td>\n",
       "      <td>51.035565</td>\n",
       "    </tr>\n",
       "    <tr>\n",
       "      <th>10</th>\n",
       "      <td>NaN</td>\n",
       "      <td>NaN</td>\n",
       "      <td>NaN</td>\n",
       "      <td>NaN</td>\n",
       "      <td>NaN</td>\n",
       "      <td>NaN</td>\n",
       "      <td>51.681988</td>\n",
       "      <td>NaN</td>\n",
       "      <td>NaN</td>\n",
       "      <td>NaN</td>\n",
       "      <td>62.919055</td>\n",
       "      <td>NaN</td>\n",
       "      <td>53.554833</td>\n",
       "    </tr>\n",
       "    <tr>\n",
       "      <th>11</th>\n",
       "      <td>NaN</td>\n",
       "      <td>NaN</td>\n",
       "      <td>NaN</td>\n",
       "      <td>NaN</td>\n",
       "      <td>NaN</td>\n",
       "      <td>NaN</td>\n",
       "      <td>54.290327</td>\n",
       "      <td>48.709060</td>\n",
       "      <td>57.043688</td>\n",
       "      <td>NaN</td>\n",
       "      <td>34.986966</td>\n",
       "      <td>58.629400</td>\n",
       "      <td>50.731888</td>\n",
       "    </tr>\n",
       "    <tr>\n",
       "      <th>12</th>\n",
       "      <td>NaN</td>\n",
       "      <td>NaN</td>\n",
       "      <td>NaN</td>\n",
       "      <td>NaN</td>\n",
       "      <td>NaN</td>\n",
       "      <td>NaN</td>\n",
       "      <td>50.549629</td>\n",
       "      <td>NaN</td>\n",
       "      <td>57.593216</td>\n",
       "      <td>NaN</td>\n",
       "      <td>NaN</td>\n",
       "      <td>NaN</td>\n",
       "      <td>54.071423</td>\n",
       "    </tr>\n",
       "    <tr>\n",
       "      <th>13</th>\n",
       "      <td>NaN</td>\n",
       "      <td>NaN</td>\n",
       "      <td>NaN</td>\n",
       "      <td>5.0</td>\n",
       "      <td>NaN</td>\n",
       "      <td>NaN</td>\n",
       "      <td>51.104092</td>\n",
       "      <td>NaN</td>\n",
       "      <td>NaN</td>\n",
       "      <td>NaN</td>\n",
       "      <td>NaN</td>\n",
       "      <td>NaN</td>\n",
       "      <td>39.578069</td>\n",
       "    </tr>\n",
       "    <tr>\n",
       "      <th>All</th>\n",
       "      <td>8.0</td>\n",
       "      <td>9.0</td>\n",
       "      <td>6.666667</td>\n",
       "      <td>5.0</td>\n",
       "      <td>5.0</td>\n",
       "      <td>49.491742</td>\n",
       "      <td>47.495915</td>\n",
       "      <td>44.172066</td>\n",
       "      <td>47.629391</td>\n",
       "      <td>48.428355</td>\n",
       "      <td>48.727077</td>\n",
       "      <td>51.418017</td>\n",
       "      <td>47.501858</td>\n",
       "    </tr>\n",
       "  </tbody>\n",
       "</table>\n",
       "</div>"
      ],
      "text/plain": [
       "homeState    2    4         5    6    7  Connecticut      Maine  \\\n",
       "carnivals                                                         \n",
       "0          NaN  NaN       NaN  NaN  NaN          NaN  67.347419   \n",
       "1          NaN  NaN       NaN  NaN  NaN    70.402830  51.466190   \n",
       "2          NaN  NaN       NaN  NaN  NaN    39.321509  49.078409   \n",
       "3          NaN  NaN       NaN  NaN  NaN    49.074666  50.051878   \n",
       "4          NaN  NaN       NaN  NaN  NaN    45.274890  45.303136   \n",
       "5          8.0  9.0       NaN  NaN  5.0    48.751408  47.293545   \n",
       "6          NaN  NaN  8.000000  NaN  NaN    53.089609  47.941747   \n",
       "7          NaN  NaN       NaN  NaN  NaN    46.444979  44.287974   \n",
       "8          NaN  NaN  4.000000  NaN  5.0    60.632120  48.504658   \n",
       "9          NaN  NaN       NaN  NaN  NaN          NaN  46.064036   \n",
       "10         NaN  NaN       NaN  NaN  NaN          NaN  51.681988   \n",
       "11         NaN  NaN       NaN  NaN  NaN          NaN  54.290327   \n",
       "12         NaN  NaN       NaN  NaN  NaN          NaN  50.549629   \n",
       "13         NaN  NaN       NaN  5.0  NaN          NaN  51.104092   \n",
       "All        8.0  9.0  6.666667  5.0  5.0    49.491742  47.495915   \n",
       "\n",
       "homeState  Massachusetts  New Hampshire    Ontario     Quebec    Vermont  \\\n",
       "carnivals                                                                  \n",
       "0                    NaN            NaN  24.494331        NaN        NaN   \n",
       "1              15.123110      51.413808        NaN  53.613292  41.397680   \n",
       "2              43.918733      55.899673  38.874815  59.411244  50.979621   \n",
       "3              49.420920      43.738546  56.671071  48.582257  42.437416   \n",
       "4              52.379832      48.519645  54.678973  40.910528  56.145917   \n",
       "5              45.295418      45.015961        NaN  44.111371  50.188556   \n",
       "6              37.817052      46.709815  50.529512  51.100199  55.107976   \n",
       "7              39.836256      47.052452  56.012285  54.580078  37.524340   \n",
       "8              44.061156      44.141029  19.427950  42.512826  71.248596   \n",
       "9                    NaN      56.671373  74.965392  55.387458  63.861334   \n",
       "10                   NaN            NaN        NaN  62.919055        NaN   \n",
       "11             48.709060      57.043688        NaN  34.986966  58.629400   \n",
       "12                   NaN      57.593216        NaN        NaN        NaN   \n",
       "13                   NaN            NaN        NaN        NaN        NaN   \n",
       "All            44.172066      47.629391  48.428355  48.727077  51.418017   \n",
       "\n",
       "homeState        All  \n",
       "carnivals             \n",
       "0          53.063056  \n",
       "1          49.618059  \n",
       "2          49.382926  \n",
       "3          48.877076  \n",
       "4          46.268356  \n",
       "5          46.254998  \n",
       "6          48.024971  \n",
       "7          45.633131  \n",
       "8          47.858361  \n",
       "9          51.035565  \n",
       "10         53.554833  \n",
       "11         50.731888  \n",
       "12         54.071423  \n",
       "13         39.578069  \n",
       "All        47.501858  "
      ]
     },
     "execution_count": 10,
     "metadata": {},
     "output_type": "execute_result"
    }
   ],
   "source": [
    "am.pivot_table('est_energy', index='carnivals', columns='homeState', margins=True)"
   ]
  },
  {
   "cell_type": "markdown",
   "id": "78213bb8",
   "metadata": {},
   "source": [
    "After creating a pivot table to show the energy consumptions among different homestates, we see that vendors from Vermont have the highest average energy\n",
    "consumption, 51.41% compared to other homestates, whereas vendors from Massachusetts consume the least energy for operating their stalls, at 44.17%.\n",
    "Lobsterland should consider hiring more vendors from MA to save up on utility costs."
   ]
  },
  {
   "cell_type": "markdown",
   "id": "7d0e080d",
   "metadata": {},
   "source": [
    "# Segmentation and Targeting"
   ]
  },
  {
   "cell_type": "code",
   "execution_count": 11,
   "id": "9d9425ef",
   "metadata": {},
   "outputs": [],
   "source": [
    "mf = pd.read_csv(r'maine_families.csv')"
   ]
  },
  {
   "cell_type": "code",
   "execution_count": 12,
   "id": "7296ee89",
   "metadata": {},
   "outputs": [
    {
     "data": {
      "text/html": [
       "<div>\n",
       "<style scoped>\n",
       "    .dataframe tbody tr th:only-of-type {\n",
       "        vertical-align: middle;\n",
       "    }\n",
       "\n",
       "    .dataframe tbody tr th {\n",
       "        vertical-align: top;\n",
       "    }\n",
       "\n",
       "    .dataframe thead th {\n",
       "        text-align: right;\n",
       "    }\n",
       "</style>\n",
       "<table border=\"1\" class=\"dataframe\">\n",
       "  <thead>\n",
       "    <tr style=\"text-align: right;\">\n",
       "      <th></th>\n",
       "      <th>householdID</th>\n",
       "      <th>total_ppl</th>\n",
       "      <th>own_rent</th>\n",
       "      <th>square_foot</th>\n",
       "      <th>household_income</th>\n",
       "      <th>number_pets</th>\n",
       "      <th>region</th>\n",
       "      <th>entertainment_spend_est</th>\n",
       "      <th>travel_spend_est</th>\n",
       "      <th>LL_passholder</th>\n",
       "    </tr>\n",
       "  </thead>\n",
       "  <tbody>\n",
       "    <tr>\n",
       "      <th>0</th>\n",
       "      <td>1</td>\n",
       "      <td>1.0</td>\n",
       "      <td>own</td>\n",
       "      <td>3309</td>\n",
       "      <td>82050.03</td>\n",
       "      <td>1</td>\n",
       "      <td>Aroostook</td>\n",
       "      <td>3189.11</td>\n",
       "      <td>2028.559211</td>\n",
       "      <td>Yes</td>\n",
       "    </tr>\n",
       "    <tr>\n",
       "      <th>1</th>\n",
       "      <td>2</td>\n",
       "      <td>1.0</td>\n",
       "      <td>own</td>\n",
       "      <td>3814</td>\n",
       "      <td>83077.81</td>\n",
       "      <td>2</td>\n",
       "      <td>Midcoast</td>\n",
       "      <td>4175.35</td>\n",
       "      <td>4713.280000</td>\n",
       "      <td>Yes</td>\n",
       "    </tr>\n",
       "    <tr>\n",
       "      <th>2</th>\n",
       "      <td>3</td>\n",
       "      <td>2.0</td>\n",
       "      <td>rent</td>\n",
       "      <td>2592</td>\n",
       "      <td>91401.41</td>\n",
       "      <td>2</td>\n",
       "      <td>Downeast_Acadia</td>\n",
       "      <td>1814.98</td>\n",
       "      <td>3479.070000</td>\n",
       "      <td>No</td>\n",
       "    </tr>\n",
       "    <tr>\n",
       "      <th>3</th>\n",
       "      <td>4</td>\n",
       "      <td>1.0</td>\n",
       "      <td>own</td>\n",
       "      <td>2628</td>\n",
       "      <td>73048.55</td>\n",
       "      <td>1</td>\n",
       "      <td>Greater Portland</td>\n",
       "      <td>1945.14</td>\n",
       "      <td>3842.420000</td>\n",
       "      <td>No</td>\n",
       "    </tr>\n",
       "    <tr>\n",
       "      <th>4</th>\n",
       "      <td>5</td>\n",
       "      <td>1.0</td>\n",
       "      <td>rent</td>\n",
       "      <td>2442</td>\n",
       "      <td>89145.36</td>\n",
       "      <td>2</td>\n",
       "      <td>Kennebec Valley</td>\n",
       "      <td>4410.86</td>\n",
       "      <td>1913.280000</td>\n",
       "      <td>Yes</td>\n",
       "    </tr>\n",
       "  </tbody>\n",
       "</table>\n",
       "</div>"
      ],
      "text/plain": [
       "   householdID  total_ppl own_rent  square_foot  household_income  \\\n",
       "0            1        1.0      own         3309          82050.03   \n",
       "1            2        1.0      own         3814          83077.81   \n",
       "2            3        2.0     rent         2592          91401.41   \n",
       "3            4        1.0      own         2628          73048.55   \n",
       "4            5        1.0     rent         2442          89145.36   \n",
       "\n",
       "   number_pets            region  entertainment_spend_est  travel_spend_est  \\\n",
       "0            1         Aroostook                  3189.11       2028.559211   \n",
       "1            2          Midcoast                  4175.35       4713.280000   \n",
       "2            2   Downeast_Acadia                  1814.98       3479.070000   \n",
       "3            1  Greater Portland                  1945.14       3842.420000   \n",
       "4            2   Kennebec Valley                  4410.86       1913.280000   \n",
       "\n",
       "  LL_passholder  \n",
       "0           Yes  \n",
       "1           Yes  \n",
       "2            No  \n",
       "3            No  \n",
       "4           Yes  "
      ]
     },
     "execution_count": 12,
     "metadata": {},
     "output_type": "execute_result"
    }
   ],
   "source": [
    "mf.head()"
   ]
  },
  {
   "cell_type": "markdown",
   "id": "3a6d6de2",
   "metadata": {},
   "source": [
    "## Segmentation\n"
   ]
  },
  {
   "cell_type": "markdown",
   "id": "07336921",
   "metadata": {},
   "source": [
    "### Dealing with NANs with mean values."
   ]
  },
  {
   "cell_type": "code",
   "execution_count": 13,
   "id": "2d278d71",
   "metadata": {},
   "outputs": [
    {
     "data": {
      "text/plain": [
       "householdID                 0\n",
       "total_ppl                  75\n",
       "own_rent                    0\n",
       "square_foot                 0\n",
       "household_income            0\n",
       "number_pets                 0\n",
       "region                      0\n",
       "entertainment_spend_est     0\n",
       "travel_spend_est            0\n",
       "LL_passholder               0\n",
       "dtype: int64"
      ]
     },
     "execution_count": 13,
     "metadata": {},
     "output_type": "execute_result"
    }
   ],
   "source": [
    "mf.isna().sum()"
   ]
  },
  {
   "cell_type": "code",
   "execution_count": 14,
   "id": "a50a9e3c",
   "metadata": {},
   "outputs": [],
   "source": [
    "mean_value=mf['total_ppl'].mean()\n",
    "mf['total_ppl'].fillna(value=mean_value, inplace=True)"
   ]
  },
  {
   "cell_type": "code",
   "execution_count": 15,
   "id": "da03af55",
   "metadata": {},
   "outputs": [
    {
     "data": {
      "text/plain": [
       "householdID                0\n",
       "total_ppl                  0\n",
       "own_rent                   0\n",
       "square_foot                0\n",
       "household_income           0\n",
       "number_pets                0\n",
       "region                     0\n",
       "entertainment_spend_est    0\n",
       "travel_spend_est           0\n",
       "LL_passholder              0\n",
       "dtype: int64"
      ]
     },
     "execution_count": 15,
     "metadata": {},
     "output_type": "execute_result"
    }
   ],
   "source": [
    "mf.isna().sum()"
   ]
  },
  {
   "cell_type": "markdown",
   "id": "272fff04",
   "metadata": {},
   "source": [
    "### Keep numeric variables only.\n"
   ]
  },
  {
   "cell_type": "code",
   "execution_count": 16,
   "id": "41979e3e",
   "metadata": {},
   "outputs": [],
   "source": [
    "numeric = mf"
   ]
  },
  {
   "cell_type": "code",
   "execution_count": 17,
   "id": "7a4e15d3",
   "metadata": {},
   "outputs": [],
   "source": [
    "numeric = numeric.drop('householdID', axis=1)\n",
    "numeric = numeric.drop('own_rent', axis=1)\n",
    "numeric = numeric.drop('region', axis=1)\n",
    "numeric = numeric.drop('LL_passholder', axis=1)"
   ]
  },
  {
   "cell_type": "code",
   "execution_count": 18,
   "id": "df8d8388",
   "metadata": {},
   "outputs": [
    {
     "data": {
      "text/html": [
       "<div>\n",
       "<style scoped>\n",
       "    .dataframe tbody tr th:only-of-type {\n",
       "        vertical-align: middle;\n",
       "    }\n",
       "\n",
       "    .dataframe tbody tr th {\n",
       "        vertical-align: top;\n",
       "    }\n",
       "\n",
       "    .dataframe thead th {\n",
       "        text-align: right;\n",
       "    }\n",
       "</style>\n",
       "<table border=\"1\" class=\"dataframe\">\n",
       "  <thead>\n",
       "    <tr style=\"text-align: right;\">\n",
       "      <th></th>\n",
       "      <th>total_ppl</th>\n",
       "      <th>square_foot</th>\n",
       "      <th>household_income</th>\n",
       "      <th>number_pets</th>\n",
       "      <th>entertainment_spend_est</th>\n",
       "      <th>travel_spend_est</th>\n",
       "    </tr>\n",
       "  </thead>\n",
       "  <tbody>\n",
       "    <tr>\n",
       "      <th>0</th>\n",
       "      <td>1.0</td>\n",
       "      <td>3309</td>\n",
       "      <td>82050.03</td>\n",
       "      <td>1</td>\n",
       "      <td>3189.11</td>\n",
       "      <td>2028.559211</td>\n",
       "    </tr>\n",
       "    <tr>\n",
       "      <th>1</th>\n",
       "      <td>1.0</td>\n",
       "      <td>3814</td>\n",
       "      <td>83077.81</td>\n",
       "      <td>2</td>\n",
       "      <td>4175.35</td>\n",
       "      <td>4713.280000</td>\n",
       "    </tr>\n",
       "    <tr>\n",
       "      <th>2</th>\n",
       "      <td>2.0</td>\n",
       "      <td>2592</td>\n",
       "      <td>91401.41</td>\n",
       "      <td>2</td>\n",
       "      <td>1814.98</td>\n",
       "      <td>3479.070000</td>\n",
       "    </tr>\n",
       "    <tr>\n",
       "      <th>3</th>\n",
       "      <td>1.0</td>\n",
       "      <td>2628</td>\n",
       "      <td>73048.55</td>\n",
       "      <td>1</td>\n",
       "      <td>1945.14</td>\n",
       "      <td>3842.420000</td>\n",
       "    </tr>\n",
       "    <tr>\n",
       "      <th>4</th>\n",
       "      <td>1.0</td>\n",
       "      <td>2442</td>\n",
       "      <td>89145.36</td>\n",
       "      <td>2</td>\n",
       "      <td>4410.86</td>\n",
       "      <td>1913.280000</td>\n",
       "    </tr>\n",
       "  </tbody>\n",
       "</table>\n",
       "</div>"
      ],
      "text/plain": [
       "   total_ppl  square_foot  household_income  number_pets  \\\n",
       "0        1.0         3309          82050.03            1   \n",
       "1        1.0         3814          83077.81            2   \n",
       "2        2.0         2592          91401.41            2   \n",
       "3        1.0         2628          73048.55            1   \n",
       "4        1.0         2442          89145.36            2   \n",
       "\n",
       "   entertainment_spend_est  travel_spend_est  \n",
       "0                  3189.11       2028.559211  \n",
       "1                  4175.35       4713.280000  \n",
       "2                  1814.98       3479.070000  \n",
       "3                  1945.14       3842.420000  \n",
       "4                  4410.86       1913.280000  "
      ]
     },
     "execution_count": 18,
     "metadata": {},
     "output_type": "execute_result"
    }
   ],
   "source": [
    "numeric.head()"
   ]
  },
  {
   "cell_type": "markdown",
   "id": "c881f2b9",
   "metadata": {},
   "source": [
    "### Data scaling\n"
   ]
  },
  {
   "cell_type": "code",
   "execution_count": 19,
   "id": "3ae8bdfc",
   "metadata": {},
   "outputs": [],
   "source": [
    "scaling = numeric"
   ]
  },
  {
   "cell_type": "code",
   "execution_count": 20,
   "id": "c8b9374a",
   "metadata": {},
   "outputs": [],
   "source": [
    "scaling['total_ppl'] = stats.zscore(scaling.total_ppl)\n",
    "scaling['square_foot'] = stats.zscore(scaling.square_foot)\n",
    "scaling['household_income'] = stats.zscore(scaling.household_income)\n",
    "scaling['number_pets'] = stats.zscore(scaling.number_pets)\n",
    "scaling['entertainment_spend_est'] = stats.zscore(scaling.entertainment_spend_est)\n",
    "scaling['travel_spend_est'] = stats.zscore(scaling.travel_spend_est)"
   ]
  },
  {
   "cell_type": "code",
   "execution_count": 21,
   "id": "c400fa83",
   "metadata": {},
   "outputs": [
    {
     "data": {
      "text/html": [
       "<div>\n",
       "<style scoped>\n",
       "    .dataframe tbody tr th:only-of-type {\n",
       "        vertical-align: middle;\n",
       "    }\n",
       "\n",
       "    .dataframe tbody tr th {\n",
       "        vertical-align: top;\n",
       "    }\n",
       "\n",
       "    .dataframe thead th {\n",
       "        text-align: right;\n",
       "    }\n",
       "</style>\n",
       "<table border=\"1\" class=\"dataframe\">\n",
       "  <thead>\n",
       "    <tr style=\"text-align: right;\">\n",
       "      <th></th>\n",
       "      <th>total_ppl</th>\n",
       "      <th>square_foot</th>\n",
       "      <th>household_income</th>\n",
       "      <th>number_pets</th>\n",
       "      <th>entertainment_spend_est</th>\n",
       "      <th>travel_spend_est</th>\n",
       "    </tr>\n",
       "  </thead>\n",
       "  <tbody>\n",
       "    <tr>\n",
       "      <th>0</th>\n",
       "      <td>-0.714042</td>\n",
       "      <td>0.232960</td>\n",
       "      <td>-0.101357</td>\n",
       "      <td>-0.644446</td>\n",
       "      <td>-0.213953</td>\n",
       "      <td>-1.820797</td>\n",
       "    </tr>\n",
       "    <tr>\n",
       "      <th>1</th>\n",
       "      <td>-0.714042</td>\n",
       "      <td>0.851909</td>\n",
       "      <td>-0.061449</td>\n",
       "      <td>0.621159</td>\n",
       "      <td>0.588903</td>\n",
       "      <td>1.134566</td>\n",
       "    </tr>\n",
       "    <tr>\n",
       "      <th>2</th>\n",
       "      <td>0.515857</td>\n",
       "      <td>-0.645826</td>\n",
       "      <td>0.261750</td>\n",
       "      <td>0.621159</td>\n",
       "      <td>-1.332575</td>\n",
       "      <td>-0.224063</td>\n",
       "    </tr>\n",
       "    <tr>\n",
       "      <th>3</th>\n",
       "      <td>-0.714042</td>\n",
       "      <td>-0.601703</td>\n",
       "      <td>-0.450877</td>\n",
       "      <td>-0.644446</td>\n",
       "      <td>-1.226617</td>\n",
       "      <td>0.175916</td>\n",
       "    </tr>\n",
       "    <tr>\n",
       "      <th>4</th>\n",
       "      <td>-0.714042</td>\n",
       "      <td>-0.829672</td>\n",
       "      <td>0.174149</td>\n",
       "      <td>0.621159</td>\n",
       "      <td>0.780622</td>\n",
       "      <td>-1.947698</td>\n",
       "    </tr>\n",
       "  </tbody>\n",
       "</table>\n",
       "</div>"
      ],
      "text/plain": [
       "   total_ppl  square_foot  household_income  number_pets  \\\n",
       "0  -0.714042     0.232960         -0.101357    -0.644446   \n",
       "1  -0.714042     0.851909         -0.061449     0.621159   \n",
       "2   0.515857    -0.645826          0.261750     0.621159   \n",
       "3  -0.714042    -0.601703         -0.450877    -0.644446   \n",
       "4  -0.714042    -0.829672          0.174149     0.621159   \n",
       "\n",
       "   entertainment_spend_est  travel_spend_est  \n",
       "0                -0.213953         -1.820797  \n",
       "1                 0.588903          1.134566  \n",
       "2                -1.332575         -0.224063  \n",
       "3                -1.226617          0.175916  \n",
       "4                 0.780622         -1.947698  "
      ]
     },
     "execution_count": 21,
     "metadata": {},
     "output_type": "execute_result"
    }
   ],
   "source": [
    "scaling.head()"
   ]
  },
  {
   "cell_type": "code",
   "execution_count": 22,
   "id": "f467bef9",
   "metadata": {},
   "outputs": [
    {
     "data": {
      "image/png": "[encoded data removed]",
      "text/plain": [
       "<Figure size 1152x576 with 1 Axes>"
      ]
     },
     "metadata": {
      "needs_background": "light"
     },
     "output_type": "display_data"
    }
   ],
   "source": [
    "distortions = []\n",
    "K = range(1,10)\n",
    "for k in K:\n",
    " kmeanModel = KMeans(n_clusters=k)\n",
    " kmeanModel.fit(scaling)\n",
    " distortions.append(kmeanModel.inertia_)\n",
    "plt.figure(figsize=(16,8))\n",
    "plt.plot(K, distortions, 'bx-')\n",
    "plt.xlabel('k')\n",
    "plt.ylabel('Distortion')\n",
    "plt.title('The Elbow Method showing the optimal k')\n",
    "plt.show()"
   ]
  },
  {
   "cell_type": "markdown",
   "id": "f6253d14",
   "metadata": {},
   "source": [
    "although the elbow chart shows that 2 might be the best k value for clustering, but after I tried, 4 will be better."
   ]
  },
  {
   "cell_type": "code",
   "execution_count": 23,
   "id": "d096aa8a",
   "metadata": {},
   "outputs": [],
   "source": [
    "kmeanModel = KMeans(n_clusters = 4, random_state = 123)\n",
    "kmeanModel.fit(scaling)\n",
    "scaling['Cluster']=kmeanModel.predict(numeric)"
   ]
  },
  {
   "cell_type": "code",
   "execution_count": 24,
   "id": "8a0c3a62",
   "metadata": {},
   "outputs": [],
   "source": [
    "mf['Cluster'] = scaling['Cluster']"
   ]
  },
  {
   "cell_type": "code",
   "execution_count": 25,
   "id": "4c9ec5e0",
   "metadata": {},
   "outputs": [
    {
     "data": {
      "text/plain": [
       "Cluster\n",
       "0    4107\n",
       "2    4001\n",
       "3    3715\n",
       "1    3177\n",
       "Name: count, dtype: int64"
      ]
     },
     "execution_count": 25,
     "metadata": {},
     "output_type": "execute_result"
    }
   ],
   "source": [
    "numeric['Cluster'].value_counts()"
   ]
  },
  {
   "cell_type": "code",
   "execution_count": 26,
   "id": "13f7ed50",
   "metadata": {},
   "outputs": [
    {
     "data": {
      "text/html": [
       "<div>\n",
       "<style scoped>\n",
       "    .dataframe tbody tr th:only-of-type {\n",
       "        vertical-align: middle;\n",
       "    }\n",
       "\n",
       "    .dataframe tbody tr th {\n",
       "        vertical-align: top;\n",
       "    }\n",
       "\n",
       "    .dataframe thead th {\n",
       "        text-align: right;\n",
       "    }\n",
       "</style>\n",
       "<table border=\"1\" class=\"dataframe\">\n",
       "  <thead>\n",
       "    <tr style=\"text-align: right;\">\n",
       "      <th></th>\n",
       "      <th>total_ppl</th>\n",
       "      <th>square_foot</th>\n",
       "      <th>household_income</th>\n",
       "      <th>number_pets</th>\n",
       "      <th>entertainment_spend_est</th>\n",
       "      <th>travel_spend_est</th>\n",
       "    </tr>\n",
       "    <tr>\n",
       "      <th>Cluster</th>\n",
       "      <th></th>\n",
       "      <th></th>\n",
       "      <th></th>\n",
       "      <th></th>\n",
       "      <th></th>\n",
       "      <th></th>\n",
       "    </tr>\n",
       "  </thead>\n",
       "  <tbody>\n",
       "    <tr>\n",
       "      <th>0</th>\n",
       "      <td>1.836754</td>\n",
       "      <td>3044.093255</td>\n",
       "      <td>70318.073190</td>\n",
       "      <td>2.230338</td>\n",
       "      <td>2818.574716</td>\n",
       "      <td>3175.222050</td>\n",
       "    </tr>\n",
       "    <tr>\n",
       "      <th>1</th>\n",
       "      <td>2.026723</td>\n",
       "      <td>3304.224111</td>\n",
       "      <td>108964.347913</td>\n",
       "      <td>1.480327</td>\n",
       "      <td>4726.343009</td>\n",
       "      <td>4398.698313</td>\n",
       "    </tr>\n",
       "    <tr>\n",
       "      <th>2</th>\n",
       "      <td>1.807080</td>\n",
       "      <td>3019.701325</td>\n",
       "      <td>69843.729708</td>\n",
       "      <td>0.794801</td>\n",
       "      <td>2823.141722</td>\n",
       "      <td>3188.367318</td>\n",
       "    </tr>\n",
       "    <tr>\n",
       "      <th>3</th>\n",
       "      <td>0.671862</td>\n",
       "      <td>3150.065410</td>\n",
       "      <td>95688.971254</td>\n",
       "      <td>1.506057</td>\n",
       "      <td>3739.469335</td>\n",
       "      <td>4163.458019</td>\n",
       "    </tr>\n",
       "  </tbody>\n",
       "</table>\n",
       "</div>"
      ],
      "text/plain": [
       "         total_ppl  square_foot  household_income  number_pets  \\\n",
       "Cluster                                                          \n",
       "0         1.836754  3044.093255      70318.073190     2.230338   \n",
       "1         2.026723  3304.224111     108964.347913     1.480327   \n",
       "2         1.807080  3019.701325      69843.729708     0.794801   \n",
       "3         0.671862  3150.065410      95688.971254     1.506057   \n",
       "\n",
       "         entertainment_spend_est  travel_spend_est  \n",
       "Cluster                                             \n",
       "0                    2818.574716       3175.222050  \n",
       "1                    4726.343009       4398.698313  \n",
       "2                    2823.141722       3188.367318  \n",
       "3                    3739.469335       4163.458019  "
      ]
     },
     "execution_count": 26,
     "metadata": {},
     "output_type": "execute_result"
    }
   ],
   "source": [
    "mf.groupby('Cluster')[['total_ppl',\n",
    "                     'square_foot',\n",
    "                    'household_income',\n",
    "                    'number_pets',\n",
    "                    'entertainment_spend_est',\n",
    "                    'travel_spend_est']].mean() "
   ]
  },
  {
   "cell_type": "code",
   "execution_count": 27,
   "id": "fdce8aa2",
   "metadata": {},
   "outputs": [
    {
     "data": {
      "text/plain": [
       "<AxesSubplot:xlabel='Cluster', ylabel='total_ppl'>"
      ]
     },
     "execution_count": 27,
     "metadata": {},
     "output_type": "execute_result"
    },
    {
     "data": {
      "image/png": "[encoded data removed]",
      "text/plain": [
       "<Figure size 432x288 with 1 Axes>"
      ]
     },
     "metadata": {
      "needs_background": "light"
     },
     "output_type": "display_data"
    }
   ],
   "source": [
    "sns.barplot(x = 'Cluster', y = 'total_ppl', data = mf)"
   ]
  },
  {
   "cell_type": "code",
   "execution_count": 28,
   "id": "8c781a7f",
   "metadata": {},
   "outputs": [
    {
     "data": {
      "text/plain": [
       "<AxesSubplot:xlabel='Cluster', ylabel='square_foot'>"
      ]
     },
     "execution_count": 28,
     "metadata": {},
     "output_type": "execute_result"
    },
    {
     "data": {
      "image/png": "[encoded data removed]",
      "text/plain": [
       "<Figure size 432x288 with 1 Axes>"
      ]
     },
     "metadata": {
      "needs_background": "light"
     },
     "output_type": "display_data"
    }
   ],
   "source": [
    "sns.barplot(x = 'Cluster', y = 'square_foot', data = mf)"
   ]
  },
  {
   "cell_type": "code",
   "execution_count": 29,
   "id": "8ef941b4",
   "metadata": {},
   "outputs": [
    {
     "data": {
      "text/plain": [
       "<AxesSubplot:xlabel='Cluster', ylabel='household_income'>"
      ]
     },
     "execution_count": 29,
     "metadata": {},
     "output_type": "execute_result"
    },
    {
     "data": {
      "image/png": "[encoded data removed]",
      "text/plain": [
       "<Figure size 432x288 with 1 Axes>"
      ]
     },
     "metadata": {
      "needs_background": "light"
     },
     "output_type": "display_data"
    }
   ],
   "source": [
    "sns.barplot(x = 'Cluster', y = 'household_income', data = mf)"
   ]
  },
  {
   "cell_type": "code",
   "execution_count": 30,
   "id": "a8a20a7f",
   "metadata": {},
   "outputs": [
    {
     "data": {
      "text/plain": [
       "<AxesSubplot:xlabel='Cluster', ylabel='number_pets'>"
      ]
     },
     "execution_count": 30,
     "metadata": {},
     "output_type": "execute_result"
    },
    {
     "data": {
      "image/png": "[encoded data removed]",
      "text/plain": [
       "<Figure size 432x288 with 1 Axes>"
      ]
     },
     "metadata": {
      "needs_background": "light"
     },
     "output_type": "display_data"
    }
   ],
   "source": [
    "sns.barplot(x = 'Cluster', y = 'number_pets', data = mf)"
   ]
  },
  {
   "cell_type": "code",
   "execution_count": 31,
   "id": "572ef9e0",
   "metadata": {},
   "outputs": [
    {
     "data": {
      "text/plain": [
       "<AxesSubplot:xlabel='Cluster', ylabel='entertainment_spend_est'>"
      ]
     },
     "execution_count": 31,
     "metadata": {},
     "output_type": "execute_result"
    },
    {
     "data": {
      "image/png": "[encoded data removed]",
      "text/plain": [
       "<Figure size 432x288 with 1 Axes>"
      ]
     },
     "metadata": {
      "needs_background": "light"
     },
     "output_type": "display_data"
    }
   ],
   "source": [
    "sns.barplot(x = 'Cluster', y = 'entertainment_spend_est', data = mf)"
   ]
  },
  {
   "cell_type": "code",
   "execution_count": 32,
   "id": "3cc4c682",
   "metadata": {},
   "outputs": [
    {
     "data": {
      "text/plain": [
       "<AxesSubplot:xlabel='Cluster', ylabel='travel_spend_est'>"
      ]
     },
     "execution_count": 32,
     "metadata": {},
     "output_type": "execute_result"
    },
    {
     "data": {
      "image/png": "[encoded data removed]",
      "text/plain": [
       "<Figure size 432x288 with 1 Axes>"
      ]
     },
     "metadata": {
      "needs_background": "light"
     },
     "output_type": "display_data"
    }
   ],
   "source": [
    "sns.barplot(x = 'Cluster', y = 'travel_spend_est', data = mf)"
   ]
  },
  {
   "cell_type": "markdown",
   "id": "d26f9a97",
   "metadata": {},
   "source": [
    "### Clustering\n",
    "Cluster 0: Pet Lover\n",
    "\n",
    "Cluster 0 is known to me as Pet Lover because they have the largest number of family pets of the four clusters. And they are very willing to invest in their pets,\n",
    "willing to buy bigger homes and spend more on travel for their pets. Sometimes they even sacrifice their entertainment time for their pets.\n",
    "\n",
    "Cluster 1: Big Family\n",
    "\n",
    "I refer to Cluster 1 as a Big Family because they have the highest total household size, total household income and total spending in all areas, which means\n",
    "they are willing to spend, and although they may not have the highest per capita spending, they are undoubtedly the largest customer when it comes to the\n",
    "household as a unit.\n",
    "\n",
    "Cluster 2: Low Class\n",
    "\n",
    "Cluster 2 is what I would call Low Class. The household income and family home size show that this Cluster is the least financially capable of the four clusters.\n",
    "They basically have no pet ties and will keep their spending as low as possible when they go out.\n",
    "\n",
    "Cluster 3: Single Elite\n",
    "\n",
    "I call Cluster 3 Single Elite because they are busy working, some don't even live at home. The size of the home shows their financial strength is strong, and\n",
    "they have the highest per capita income, per capita entertainment spending and per capita travel spending of the four Clusters.\n"
   ]
  },
  {
   "cell_type": "markdown",
   "id": "59252395",
   "metadata": {},
   "source": [
    "### Targeting\n",
    "\n",
    "Cluster 0: Pet Lover\n",
    "\n",
    "For Cluster 0, since their bond with pets is very deep, I would suggest Lobster Land to introduce some projects where people and pets can play together, or\n",
    "some Pet Special projects such as pet restaurants, pet grooming, etc.\n",
    "\n",
    "Cluster 1: Big Family\n",
    "\n",
    "For Cluster 1, there may be more family members, so Lobster Land can offer them services with a family concept, such as parent-child tickets, or hold\n",
    "entertainment programs that require parents and children to participate together to attract them.\n",
    "\n",
    "Cluster 2: Low Class\n",
    "\n",
    "Even though Cluster 2's spending power is not high, they still have considerable willingness to spend. So for this cluster, what Lobster Land can do is to issue\n",
    "various coupons to them to stimulate them to come and spend.\n",
    "\n",
    "Cluster 3: Single Elite\n",
    "\n",
    "For Cluster 3, their spending power and willingness to spend are very strong. For this cluster, Lobster Land can send them the newly launched high quality\n",
    "entertainment programs to attract them to spend money.\n"
   ]
  },
  {
   "cell_type": "markdown",
   "id": "38fa153c",
   "metadata": {},
   "source": [
    "# Conjoint Analysis & Memo Section"
   ]
  },
  {
   "cell_type": "code",
   "execution_count": 33,
   "id": "ac127d61",
   "metadata": {},
   "outputs": [],
   "source": [
    "bbq = pd.read_csv(\"bbq_lake.csv\")"
   ]
  },
  {
   "cell_type": "code",
   "execution_count": 34,
   "id": "cdffdfd5",
   "metadata": {},
   "outputs": [
    {
     "data": {
      "text/html": [
       "<div>\n",
       "<style scoped>\n",
       "    .dataframe tbody tr th:only-of-type {\n",
       "        vertical-align: middle;\n",
       "    }\n",
       "\n",
       "    .dataframe tbody tr th {\n",
       "        vertical-align: top;\n",
       "    }\n",
       "\n",
       "    .dataframe thead th {\n",
       "        text-align: right;\n",
       "    }\n",
       "</style>\n",
       "<table border=\"1\" class=\"dataframe\">\n",
       "  <thead>\n",
       "    <tr style=\"text-align: right;\">\n",
       "      <th></th>\n",
       "      <th>bundleID</th>\n",
       "      <th>avg_rating</th>\n",
       "    </tr>\n",
       "  </thead>\n",
       "  <tbody>\n",
       "    <tr>\n",
       "      <th>count</th>\n",
       "      <td>384.000000</td>\n",
       "      <td>384.000000</td>\n",
       "    </tr>\n",
       "    <tr>\n",
       "      <th>mean</th>\n",
       "      <td>192.500000</td>\n",
       "      <td>7.052063</td>\n",
       "    </tr>\n",
       "    <tr>\n",
       "      <th>std</th>\n",
       "      <td>110.995495</td>\n",
       "      <td>1.699184</td>\n",
       "    </tr>\n",
       "    <tr>\n",
       "      <th>min</th>\n",
       "      <td>1.000000</td>\n",
       "      <td>1.690000</td>\n",
       "    </tr>\n",
       "    <tr>\n",
       "      <th>25%</th>\n",
       "      <td>96.750000</td>\n",
       "      <td>5.879500</td>\n",
       "    </tr>\n",
       "    <tr>\n",
       "      <th>50%</th>\n",
       "      <td>192.500000</td>\n",
       "      <td>7.121000</td>\n",
       "    </tr>\n",
       "    <tr>\n",
       "      <th>75%</th>\n",
       "      <td>288.250000</td>\n",
       "      <td>8.510000</td>\n",
       "    </tr>\n",
       "    <tr>\n",
       "      <th>max</th>\n",
       "      <td>384.000000</td>\n",
       "      <td>9.970000</td>\n",
       "    </tr>\n",
       "  </tbody>\n",
       "</table>\n",
       "</div>"
      ],
      "text/plain": [
       "         bundleID  avg_rating\n",
       "count  384.000000  384.000000\n",
       "mean   192.500000    7.052063\n",
       "std    110.995495    1.699184\n",
       "min      1.000000    1.690000\n",
       "25%     96.750000    5.879500\n",
       "50%    192.500000    7.121000\n",
       "75%    288.250000    8.510000\n",
       "max    384.000000    9.970000"
      ]
     },
     "execution_count": 34,
     "metadata": {},
     "output_type": "execute_result"
    }
   ],
   "source": [
    "bbq.describe()"
   ]
  },
  {
   "cell_type": "code",
   "execution_count": 35,
   "id": "eb5cdcb5",
   "metadata": {},
   "outputs": [
    {
     "data": {
      "text/plain": [
       "bundleID      0\n",
       "starter       0\n",
       "maindishI     0\n",
       "maindishII    0\n",
       "side          0\n",
       "dessert       0\n",
       "avg_rating    0\n",
       "dtype: int64"
      ]
     },
     "execution_count": 35,
     "metadata": {},
     "output_type": "execute_result"
    }
   ],
   "source": [
    "bbq.isnull().sum()"
   ]
  },
  {
   "cell_type": "code",
   "execution_count": 36,
   "id": "99464eb3",
   "metadata": {},
   "outputs": [
    {
     "data": {
      "text/plain": [
       "<bound method DataFrame.info of      bundleID                starter               maindishI     maindishII  \\\n",
       "0           1  Fried Chicken Tenders             BBQ Brisket        Sausage   \n",
       "1           2  Fried Chicken Tenders             BBQ Brisket        Sausage   \n",
       "2           3  Fried Chicken Tenders             BBQ Brisket        Sausage   \n",
       "3           4  Fried Chicken Tenders             BBQ Brisket        Sausage   \n",
       "4           5  Fried Chicken Tenders             BBQ Brisket        Sausage   \n",
       "..        ...                    ...                     ...            ...   \n",
       "379       380  Jumbo Shrimp Cocktail  Pork and Brisket Combo  Steak Sampler   \n",
       "380       381  Jumbo Shrimp Cocktail  Pork and Brisket Combo  Steak Sampler   \n",
       "381       382  Jumbo Shrimp Cocktail  Pork and Brisket Combo  Steak Sampler   \n",
       "382       383  Jumbo Shrimp Cocktail  Pork and Brisket Combo  Steak Sampler   \n",
       "383       384  Jumbo Shrimp Cocktail  Pork and Brisket Combo  Steak Sampler   \n",
       "\n",
       "                   side              dessert  avg_rating  \n",
       "0        Mac and Cheese        Peach Cobbler        5.81  \n",
       "1        Mac and Cheese  Apple Pie a la Mode        8.93  \n",
       "2         Mashed Potato        Peach Cobbler        6.20  \n",
       "3         Mashed Potato  Apple Pie a la Mode        8.71  \n",
       "4    French Fry Platter        Peach Cobbler        8.24  \n",
       "..                  ...                  ...         ...  \n",
       "379      Mac and Cheese  Apple Pie a la Mode        5.91  \n",
       "380       Mashed Potato        Peach Cobbler        6.30  \n",
       "381       Mashed Potato  Apple Pie a la Mode        7.65  \n",
       "382  French Fry Platter        Peach Cobbler        8.67  \n",
       "383  French Fry Platter  Apple Pie a la Mode        8.83  \n",
       "\n",
       "[384 rows x 7 columns]>"
      ]
     },
     "execution_count": 36,
     "metadata": {},
     "output_type": "execute_result"
    }
   ],
   "source": [
    "bbq.info"
   ]
  },
  {
   "cell_type": "code",
   "execution_count": 37,
   "id": "eddd8bd9",
   "metadata": {},
   "outputs": [],
   "source": [
    "del bbq['bundleID']"
   ]
  },
  {
   "cell_type": "code",
   "execution_count": 38,
   "id": "1eca1cbc",
   "metadata": {},
   "outputs": [
    {
     "data": {
      "text/html": [
       "<div>\n",
       "<style scoped>\n",
       "    .dataframe tbody tr th:only-of-type {\n",
       "        vertical-align: middle;\n",
       "    }\n",
       "\n",
       "    .dataframe tbody tr th {\n",
       "        vertical-align: top;\n",
       "    }\n",
       "\n",
       "    .dataframe thead th {\n",
       "        text-align: right;\n",
       "    }\n",
       "</style>\n",
       "<table border=\"1\" class=\"dataframe\">\n",
       "  <thead>\n",
       "    <tr style=\"text-align: right;\">\n",
       "      <th></th>\n",
       "      <th>starter</th>\n",
       "      <th>maindishI</th>\n",
       "      <th>maindishII</th>\n",
       "      <th>side</th>\n",
       "      <th>dessert</th>\n",
       "      <th>avg_rating</th>\n",
       "    </tr>\n",
       "  </thead>\n",
       "  <tbody>\n",
       "    <tr>\n",
       "      <th>0</th>\n",
       "      <td>Fried Chicken Tenders</td>\n",
       "      <td>BBQ Brisket</td>\n",
       "      <td>Sausage</td>\n",
       "      <td>Mac and Cheese</td>\n",
       "      <td>Peach Cobbler</td>\n",
       "      <td>5.81</td>\n",
       "    </tr>\n",
       "    <tr>\n",
       "      <th>1</th>\n",
       "      <td>Fried Chicken Tenders</td>\n",
       "      <td>BBQ Brisket</td>\n",
       "      <td>Sausage</td>\n",
       "      <td>Mac and Cheese</td>\n",
       "      <td>Apple Pie a la Mode</td>\n",
       "      <td>8.93</td>\n",
       "    </tr>\n",
       "    <tr>\n",
       "      <th>2</th>\n",
       "      <td>Fried Chicken Tenders</td>\n",
       "      <td>BBQ Brisket</td>\n",
       "      <td>Sausage</td>\n",
       "      <td>Mashed Potato</td>\n",
       "      <td>Peach Cobbler</td>\n",
       "      <td>6.20</td>\n",
       "    </tr>\n",
       "    <tr>\n",
       "      <th>3</th>\n",
       "      <td>Fried Chicken Tenders</td>\n",
       "      <td>BBQ Brisket</td>\n",
       "      <td>Sausage</td>\n",
       "      <td>Mashed Potato</td>\n",
       "      <td>Apple Pie a la Mode</td>\n",
       "      <td>8.71</td>\n",
       "    </tr>\n",
       "    <tr>\n",
       "      <th>4</th>\n",
       "      <td>Fried Chicken Tenders</td>\n",
       "      <td>BBQ Brisket</td>\n",
       "      <td>Sausage</td>\n",
       "      <td>French Fry Platter</td>\n",
       "      <td>Peach Cobbler</td>\n",
       "      <td>8.24</td>\n",
       "    </tr>\n",
       "  </tbody>\n",
       "</table>\n",
       "</div>"
      ],
      "text/plain": [
       "                 starter    maindishI maindishII                side  \\\n",
       "0  Fried Chicken Tenders  BBQ Brisket    Sausage      Mac and Cheese   \n",
       "1  Fried Chicken Tenders  BBQ Brisket    Sausage      Mac and Cheese   \n",
       "2  Fried Chicken Tenders  BBQ Brisket    Sausage       Mashed Potato   \n",
       "3  Fried Chicken Tenders  BBQ Brisket    Sausage       Mashed Potato   \n",
       "4  Fried Chicken Tenders  BBQ Brisket    Sausage  French Fry Platter   \n",
       "\n",
       "               dessert  avg_rating  \n",
       "0        Peach Cobbler        5.81  \n",
       "1  Apple Pie a la Mode        8.93  \n",
       "2        Peach Cobbler        6.20  \n",
       "3  Apple Pie a la Mode        8.71  \n",
       "4        Peach Cobbler        8.24  "
      ]
     },
     "execution_count": 38,
     "metadata": {},
     "output_type": "execute_result"
    }
   ],
   "source": [
    "bbq.head()"
   ]
  },
  {
   "cell_type": "code",
   "execution_count": 39,
   "id": "95cf0d25",
   "metadata": {},
   "outputs": [
    {
     "data": {
      "text/plain": [
       "Index(['starter', 'maindishI', 'maindishII', 'side', 'dessert', 'avg_rating'], dtype='object')"
      ]
     },
     "execution_count": 39,
     "metadata": {},
     "output_type": "execute_result"
    }
   ],
   "source": [
    "bbq.columns"
   ]
  },
  {
   "cell_type": "code",
   "execution_count": 40,
   "id": "7989229a",
   "metadata": {},
   "outputs": [],
   "source": [
    "bbq1 = pd.get_dummies(bbq, drop_first=True, columns=['starter','maindishI','maindishII','side', 'dessert'])"
   ]
  },
  {
   "cell_type": "code",
   "execution_count": 41,
   "id": "12e4b009",
   "metadata": {},
   "outputs": [
    {
     "data": {
      "text/plain": [
       "Index(['avg_rating', 'starter_Fried Chicken Tenders',\n",
       "       'starter_Jumbo Shrimp Cocktail', 'starter_Sticky Chicken Tenders',\n",
       "       'maindishI_BBQ Chicken', 'maindishI_Pork and Brisket Combo',\n",
       "       'maindishI_Pulled Pork', 'maindishII_Fajita', 'maindishII_Sausage',\n",
       "       'maindishII_Steak Sampler', 'side_Mac and Cheese', 'side_Mashed Potato',\n",
       "       'dessert_Peach Cobbler'],\n",
       "      dtype='object')"
      ]
     },
     "execution_count": 41,
     "metadata": {},
     "output_type": "execute_result"
    }
   ],
   "source": [
    "bbq1.columns"
   ]
  },
  {
   "cell_type": "code",
   "execution_count": 42,
   "id": "2f36251e",
   "metadata": {},
   "outputs": [],
   "source": [
    "X = bbq1[['starter_Fried Chicken Tenders','starter_Jumbo Shrimp Cocktail','starter_Sticky Chicken Tenders','maindishI_BBQ Chicken',\n",
    " 'maindishI_Pork and Brisket Combo','maindishI_Pulled Pork','maindishII_Fajita','maindishII_Sausage','maindishII_Steak Sampler',\n",
    "          'side_Mac and Cheese', 'side_Mashed Potato','dessert_Peach Cobbler']]\n",
    "y = bbq1['avg_rating']"
   ]
  },
  {
   "cell_type": "code",
   "execution_count": 43,
   "id": "cbd7d987",
   "metadata": {},
   "outputs": [
    {
     "data": {
      "text/plain": [
       "LinearRegression()"
      ]
     },
     "execution_count": 43,
     "metadata": {},
     "output_type": "execute_result"
    }
   ],
   "source": [
    "regressor = LinearRegression()\n",
    "regressor.fit(X, y)"
   ]
  },
  {
   "cell_type": "code",
   "execution_count": 44,
   "id": "f30aefbe",
   "metadata": {},
   "outputs": [
    {
     "data": {
      "text/plain": [
       "6.968645833333335"
      ]
     },
     "execution_count": 44,
     "metadata": {},
     "output_type": "execute_result"
    }
   ],
   "source": [
    "regressor.intercept_"
   ]
  },
  {
   "cell_type": "code",
   "execution_count": 45,
   "id": "d17ca4e8",
   "metadata": {},
   "outputs": [
    {
     "data": {
      "text/plain": [
       "Index(['avg_rating', 'starter_Fried Chicken Tenders',\n",
       "       'starter_Jumbo Shrimp Cocktail', 'starter_Sticky Chicken Tenders',\n",
       "       'maindishI_BBQ Chicken', 'maindishI_Pork and Brisket Combo',\n",
       "       'maindishI_Pulled Pork', 'maindishII_Fajita', 'maindishII_Sausage',\n",
       "       'maindishII_Steak Sampler', 'side_Mac and Cheese', 'side_Mashed Potato',\n",
       "       'dessert_Peach Cobbler'],\n",
       "      dtype='object')"
      ]
     },
     "execution_count": 45,
     "metadata": {},
     "output_type": "execute_result"
    }
   ],
   "source": [
    "bbq1.columns"
   ]
  },
  {
   "cell_type": "code",
   "execution_count": 46,
   "id": "fb98bb4e",
   "metadata": {},
   "outputs": [
    {
     "data": {
      "text/html": [
       "<div>\n",
       "<style scoped>\n",
       "    .dataframe tbody tr th:only-of-type {\n",
       "        vertical-align: middle;\n",
       "    }\n",
       "\n",
       "    .dataframe tbody tr th {\n",
       "        vertical-align: top;\n",
       "    }\n",
       "\n",
       "    .dataframe thead th {\n",
       "        text-align: right;\n",
       "    }\n",
       "</style>\n",
       "<table border=\"1\" class=\"dataframe\">\n",
       "  <thead>\n",
       "    <tr style=\"text-align: right;\">\n",
       "      <th></th>\n",
       "      <th>Coefficient</th>\n",
       "    </tr>\n",
       "  </thead>\n",
       "  <tbody>\n",
       "    <tr>\n",
       "      <th>starter_Fried Chicken Tenders</th>\n",
       "      <td>0.103854</td>\n",
       "    </tr>\n",
       "    <tr>\n",
       "      <th>starter_Jumbo Shrimp Cocktail</th>\n",
       "      <td>-0.451771</td>\n",
       "    </tr>\n",
       "    <tr>\n",
       "      <th>starter_Sticky Chicken Tenders</th>\n",
       "      <td>0.093333</td>\n",
       "    </tr>\n",
       "    <tr>\n",
       "      <th>maindishI_BBQ Chicken</th>\n",
       "      <td>-0.207917</td>\n",
       "    </tr>\n",
       "    <tr>\n",
       "      <th>maindishI_Pork and Brisket Combo</th>\n",
       "      <td>1.063646</td>\n",
       "    </tr>\n",
       "    <tr>\n",
       "      <th>maindishI_Pulled Pork</th>\n",
       "      <td>0.577188</td>\n",
       "    </tr>\n",
       "    <tr>\n",
       "      <th>maindishII_Fajita</th>\n",
       "      <td>-0.498313</td>\n",
       "    </tr>\n",
       "    <tr>\n",
       "      <th>maindishII_Sausage</th>\n",
       "      <td>0.342917</td>\n",
       "    </tr>\n",
       "    <tr>\n",
       "      <th>maindishII_Steak Sampler</th>\n",
       "      <td>0.232813</td>\n",
       "    </tr>\n",
       "    <tr>\n",
       "      <th>side_Mac and Cheese</th>\n",
       "      <td>0.419687</td>\n",
       "    </tr>\n",
       "    <tr>\n",
       "      <th>side_Mashed Potato</th>\n",
       "      <td>-0.002500</td>\n",
       "    </tr>\n",
       "    <tr>\n",
       "      <th>dessert_Peach Cobbler</th>\n",
       "      <td>-0.739167</td>\n",
       "    </tr>\n",
       "  </tbody>\n",
       "</table>\n",
       "</div>"
      ],
      "text/plain": [
       "                                  Coefficient\n",
       "starter_Fried Chicken Tenders        0.103854\n",
       "starter_Jumbo Shrimp Cocktail       -0.451771\n",
       "starter_Sticky Chicken Tenders       0.093333\n",
       "maindishI_BBQ Chicken               -0.207917\n",
       "maindishI_Pork and Brisket Combo     1.063646\n",
       "maindishI_Pulled Pork                0.577188\n",
       "maindishII_Fajita                   -0.498313\n",
       "maindishII_Sausage                   0.342917\n",
       "maindishII_Steak Sampler             0.232813\n",
       "side_Mac and Cheese                  0.419687\n",
       "side_Mashed Potato                  -0.002500\n",
       "dessert_Peach Cobbler               -0.739167"
      ]
     },
     "execution_count": 46,
     "metadata": {},
     "output_type": "execute_result"
    }
   ],
   "source": [
    "coef_df = pd.DataFrame(regressor.coef_, X.columns, columns=['Coefficient'])\n",
    "coef_df"
   ]
  },
  {
   "cell_type": "markdown",
   "id": "2f08caa9",
   "metadata": {},
   "source": [
    "After analyzing the coefficients of the linear regression model, built after dummifying the input variables, we can see that the reference levels are as follows:\n",
    "\n",
    "Starter: Crabcakes and Shrimp\n",
    "\n",
    "Maindish 1: BBQ Brisket\n",
    "\n",
    "Maindish 2: Beef Short Rib\n",
    "\n",
    "Side: French Fry Platter\n",
    "\n",
    "Dessert: Apple Pie a la Mode\n",
    "\n",
    "By deep-diving into the stength of the coefficients, we see that for starters, Fried Chicken tenders are the most popular among customers. However, Fried\n",
    "Chicken Tenders cost 3.5 dollars, whereas Sticky chicken tenders costs 2.9 dollars. It is more logical for lobsterland to offer the Sticky chicken tenders as a\n",
    "starter since the vendor cost for sticky chicken is 0.6 dollars lower compared to Fried Chicken tenders, and the difference in coefficients is 11.27 %.\n",
    "(0.103854-0.093333)/0.093333.\n",
    "\n",
    "In terms of maindish_1, the 'Pork and Brisket Combo' is the most popular among customers. Another contender for maindish_1 is 'Pulled Pork', the cost\n",
    "difference between them is only 6.1-6=0.1 dollars. This small difference between their costs is not significant enough to sway our opinion from the obvious\n",
    "coefficient difference of (1.063646-0.577188)/0.577188 or 84.28%. So the best choice for maindish_1 would be 'Pork and Brisket Combo' for 6.1 dollars.\n",
    "\n",
    "Talking about maindish_II, 'Sausage' seems to be the most popular choice. 'Steak Sampler' is also a crowd favorite. The cost difference between them is 5.3-\n",
    "4.7=0.6 dollars. The difference in coefficients is (0.342917-0.232813)/0.232813 or 47.29% . The cost increase is only (5.3-4.7)/4.7=12.77% . Taking these\n",
    "factors into account, it is more resonable for Lobsterland to offer 'Sausage' as a second maindish despite its higher cost, due to the relative difference in\n",
    "coefficient strength.\n",
    "\n",
    "For the side, 'Mac and Cheese' is relatively the most popular dish among customers. The french fry platter costs 0.25-0.15= 0.1 dollars less compared to mac\n",
    "and cheese, however, based on the relative popularity of mac and cheese, 0.0 compared to 0.419687. Mac and cheese is the best choice here, despite the\n",
    "increased costs. Lobsterland management should select mac and cheese for their preffered side order.\n",
    "\n",
    "Finally, for desserts, 'The Peach Cobbler' is relatively poor as a dessert choice for customers, compared to 'Apple Pie a la Mode'. The unit cost for this dessert\n",
    "is 0.9-0.6=0.3 dollars higher than Peach Cobbler, however, given the huge negative coefficient associated with Peach Cobbler, Lobsterland should consider\n",
    "having Apple Pie a la Mode as the dessert to make sure its customers are satisfied with the food.\n",
    "\n",
    "My final recommendation for the menu to Lobsterland would be as follows:\n",
    "\n",
    "Starter: Sticky Chicken Tenders\n",
    "\n",
    "Maindish_1: Pork and Brisket Combo\n",
    "\n",
    "Maindish_2: Sausage\n",
    "\n",
    "Side: Mac and Cheese\n",
    "\n",
    "Dessert: Apple Pie a la Mode\n"
   ]
  },
  {
   "cell_type": "markdown",
   "id": "e6d4de55",
   "metadata": {},
   "source": [
    "# Forecasting Total Revenue"
   ]
  },
  {
   "cell_type": "code",
   "execution_count": 47,
   "id": "d7897356",
   "metadata": {},
   "outputs": [],
   "source": [
    "df = pd.read_excel('TSQ.xlsx',index_col='Quarter',date_format = True)"
   ]
  },
  {
   "cell_type": "code",
   "execution_count": 48,
   "id": "589bf4e8",
   "metadata": {},
   "outputs": [
    {
     "data": {
      "text/plain": [
       "<AxesSubplot:xlabel='Quarter'>"
      ]
     },
     "execution_count": 48,
     "metadata": {},
     "output_type": "execute_result"
    },
    {
     "data": {
      "image/png": "[encoded data removed]",
      "text/plain": [
       "<Figure size 432x288 with 1 Axes>"
      ]
     },
     "metadata": {
      "needs_background": "light"
     },
     "output_type": "display_data"
    }
   ],
   "source": [
    "df.plot()"
   ]
  },
  {
   "cell_type": "code",
   "execution_count": 49,
   "id": "51e79bbc",
   "metadata": {},
   "outputs": [],
   "source": [
    "train = df[0:27]\n",
    "test = df[27:]"
   ]
  },
  {
   "cell_type": "code",
   "execution_count": 50,
   "id": "1fee8c1a",
   "metadata": {},
   "outputs": [
    {
     "name": "stdout",
     "output_type": "stream",
     "text": [
      "8.9095562096062\n"
     ]
    },
    {
     "data": {
      "image/png": "[encoded data removed]",
      "text/plain": [
       "<Figure size 1152x576 with 1 Axes>"
      ]
     },
     "metadata": {
      "needs_background": "light"
     },
     "output_type": "display_data"
    }
   ],
   "source": [
    "y_hat_avg = test.copy()\n",
    "fit = ExponentialSmoothing(np.asarray(df['Revenue']),seasonal_periods=4,trend='add',seasonal='add').fit()\n",
    "y_hat_avg['Holt-Winter'] = fit.forecast(len(test))\n",
    "Q4_2022 = fit.forecast(1)\n",
    "plt.figure(figsize=(16,8))\n",
    "plt.plot(train['Revenue'],label='train')\n",
    "plt.plot(test['Revenue'],label='test')\n",
    "plt.plot(y_hat_avg['Holt-Winter'],label='Holt-Winter')\n",
    "plt.legend(loc='best')\n",
    "rms = sqrt(mean_squared_error(test['Revenue'],y_hat_avg['Holt-Winter']))\n",
    "print(rms)"
   ]
  },
  {
   "cell_type": "code",
   "execution_count": 51,
   "id": "f4e0f4b4",
   "metadata": {},
   "outputs": [],
   "source": [
    "pred_2022 = round(int(y_hat_avg['Holt-Winter'][-3]+ \\\n",
    "             y_hat_avg['Holt-Winter'][-2]+y_hat_avg['Holt-Winter'][-1]+Q4_2022),0)"
   ]
  },
  {
   "cell_type": "code",
   "execution_count": 52,
   "id": "2568ddad",
   "metadata": {},
   "outputs": [
    {
     "name": "stdout",
     "output_type": "stream",
     "text": [
      "Total Revenue of TSQ in 2022 is around: 421 million\n"
     ]
    }
   ],
   "source": [
    "print(f\"Total Revenue of TSQ in 2022 is around: {pred_2022} million\")"
   ]
  },
  {
   "cell_type": "markdown",
   "id": "adff4a79",
   "metadata": {},
   "source": [
    "In this forecasting case, I tried to use data from Yahoo Finance ar first, however, there is only open price, close price and volume. I don't think the revenue can\n",
    "be clarified by those inidcator. Therefore, I directly use annual revenue data of TSQ throguh: https://www.macrotrends.net/stocks/charts/TSQ/townsquare\u0002media/revenue (https://www.macrotrends.net/stocks/charts/TSQ/townsquare-media/revenue). Based on this data, I also tried Simple Exponential Smoothing\n",
    "and ARIMA, but those methods don't fit well. Compared to annual revenues, quarter revenues have clear pattern and enough data to seperate into train and\n",
    "test sets."
   ]
  },
  {
   "cell_type": "markdown",
   "id": "acac580f",
   "metadata": {},
   "source": [
    "# Classification"
   ]
  },
  {
   "cell_type": "code",
   "execution_count": 53,
   "id": "7423055c",
   "metadata": {},
   "outputs": [
    {
     "data": {
      "text/html": [
       "<div>\n",
       "<style scoped>\n",
       "    .dataframe tbody tr th:only-of-type {\n",
       "        vertical-align: middle;\n",
       "    }\n",
       "\n",
       "    .dataframe tbody tr th {\n",
       "        vertical-align: top;\n",
       "    }\n",
       "\n",
       "    .dataframe thead th {\n",
       "        text-align: right;\n",
       "    }\n",
       "</style>\n",
       "<table border=\"1\" class=\"dataframe\">\n",
       "  <thead>\n",
       "    <tr style=\"text-align: right;\">\n",
       "      <th></th>\n",
       "      <th>householdID</th>\n",
       "      <th>est_inc_USD</th>\n",
       "      <th>est_netw_USD</th>\n",
       "      <th>hhold_field</th>\n",
       "      <th>hhold_oldest</th>\n",
       "      <th>hhold_pax</th>\n",
       "      <th>hhold_youngest</th>\n",
       "      <th>homeState</th>\n",
       "      <th>hhold_car</th>\n",
       "      <th>stream_subs</th>\n",
       "      <th>primary</th>\n",
       "    </tr>\n",
       "  </thead>\n",
       "  <tbody>\n",
       "    <tr>\n",
       "      <th>0</th>\n",
       "      <td>23</td>\n",
       "      <td>59245</td>\n",
       "      <td>381931</td>\n",
       "      <td>Govt</td>\n",
       "      <td>48</td>\n",
       "      <td>2</td>\n",
       "      <td>8</td>\n",
       "      <td>New York</td>\n",
       "      <td>SUV</td>\n",
       "      <td>2</td>\n",
       "      <td>0</td>\n",
       "    </tr>\n",
       "    <tr>\n",
       "      <th>1</th>\n",
       "      <td>27</td>\n",
       "      <td>116628</td>\n",
       "      <td>457159</td>\n",
       "      <td>Tech</td>\n",
       "      <td>51</td>\n",
       "      <td>5</td>\n",
       "      <td>21</td>\n",
       "      <td>New Hampshire</td>\n",
       "      <td>SUV</td>\n",
       "      <td>3</td>\n",
       "      <td>1</td>\n",
       "    </tr>\n",
       "    <tr>\n",
       "      <th>2</th>\n",
       "      <td>36</td>\n",
       "      <td>65835</td>\n",
       "      <td>394803</td>\n",
       "      <td>Services</td>\n",
       "      <td>50</td>\n",
       "      <td>4</td>\n",
       "      <td>13</td>\n",
       "      <td>Vermont</td>\n",
       "      <td>Pickup</td>\n",
       "      <td>3</td>\n",
       "      <td>0</td>\n",
       "    </tr>\n",
       "    <tr>\n",
       "      <th>3</th>\n",
       "      <td>41</td>\n",
       "      <td>132483</td>\n",
       "      <td>429296</td>\n",
       "      <td>Tech</td>\n",
       "      <td>54</td>\n",
       "      <td>2</td>\n",
       "      <td>11</td>\n",
       "      <td>Massachusetts</td>\n",
       "      <td>SUV</td>\n",
       "      <td>3</td>\n",
       "      <td>1</td>\n",
       "    </tr>\n",
       "    <tr>\n",
       "      <th>4</th>\n",
       "      <td>44</td>\n",
       "      <td>83444</td>\n",
       "      <td>488210</td>\n",
       "      <td>Education</td>\n",
       "      <td>51</td>\n",
       "      <td>7</td>\n",
       "      <td>12</td>\n",
       "      <td>Maine</td>\n",
       "      <td>SUV</td>\n",
       "      <td>3</td>\n",
       "      <td>0</td>\n",
       "    </tr>\n",
       "  </tbody>\n",
       "</table>\n",
       "</div>"
      ],
      "text/plain": [
       "   householdID  est_inc_USD  est_netw_USD hhold_field  hhold_oldest  \\\n",
       "0           23        59245        381931        Govt            48   \n",
       "1           27       116628        457159        Tech            51   \n",
       "2           36        65835        394803    Services            50   \n",
       "3           41       132483        429296        Tech            54   \n",
       "4           44        83444        488210   Education            51   \n",
       "\n",
       "   hhold_pax  hhold_youngest      homeState hhold_car  stream_subs  primary  \n",
       "0          2               8       New York       SUV            2        0  \n",
       "1          5              21  New Hampshire       SUV            3        1  \n",
       "2          4              13        Vermont    Pickup            3        0  \n",
       "3          2              11  Massachusetts       SUV            3        1  \n",
       "4          7              12          Maine       SUV            3        0  "
      ]
     },
     "execution_count": 53,
     "metadata": {},
     "output_type": "execute_result"
    }
   ],
   "source": [
    "cv1 = pd.read_csv(r'carnival_visitors.csv')\n",
    "cv1.head()"
   ]
  },
  {
   "cell_type": "markdown",
   "id": "a3bfc9c1",
   "metadata": {},
   "source": [
    "## Identify the categorical and numerical variables"
   ]
  },
  {
   "cell_type": "code",
   "execution_count": 54,
   "id": "c45b4034",
   "metadata": {},
   "outputs": [
    {
     "data": {
      "text/plain": [
       "householdID        int64\n",
       "est_inc_USD        int64\n",
       "est_netw_USD       int64\n",
       "hhold_field       object\n",
       "hhold_oldest       int64\n",
       "hhold_pax          int64\n",
       "hhold_youngest     int64\n",
       "homeState         object\n",
       "hhold_car         object\n",
       "stream_subs        int64\n",
       "primary            int64\n",
       "dtype: object"
      ]
     },
     "execution_count": 54,
     "metadata": {},
     "output_type": "execute_result"
    }
   ],
   "source": [
    "cv1.dtypes"
   ]
  },
  {
   "cell_type": "code",
   "execution_count": 55,
   "id": "0433a64f",
   "metadata": {},
   "outputs": [
    {
     "data": {
      "text/plain": [
       "primary\n",
       "1    8124\n",
       "0    6876\n",
       "Name: count, dtype: int64"
      ]
     },
     "execution_count": 55,
     "metadata": {},
     "output_type": "execute_result"
    }
   ],
   "source": [
    "cv1['primary'].value_counts()"
   ]
  },
  {
   "cell_type": "markdown",
   "id": "154f2821",
   "metadata": {},
   "source": [
    "## Dealing with missing values"
   ]
  },
  {
   "cell_type": "code",
   "execution_count": 56,
   "id": "8aa2c990",
   "metadata": {},
   "outputs": [],
   "source": [
    "cv1 = cv1.dropna()"
   ]
  },
  {
   "cell_type": "code",
   "execution_count": 57,
   "id": "2856b8d4",
   "metadata": {},
   "outputs": [
    {
     "data": {
      "text/plain": [
       "householdID       0\n",
       "est_inc_USD       0\n",
       "est_netw_USD      0\n",
       "hhold_field       0\n",
       "hhold_oldest      0\n",
       "hhold_pax         0\n",
       "hhold_youngest    0\n",
       "homeState         0\n",
       "hhold_car         0\n",
       "stream_subs       0\n",
       "primary           0\n",
       "dtype: int64"
      ]
     },
     "execution_count": 57,
     "metadata": {},
     "output_type": "execute_result"
    }
   ],
   "source": [
    "cv1.isnull().sum()"
   ]
  },
  {
   "cell_type": "markdown",
   "id": "af89c58c",
   "metadata": {},
   "source": [
    "## Dummifying"
   ]
  },
  {
   "cell_type": "code",
   "execution_count": 58,
   "id": "36a5fc91",
   "metadata": {},
   "outputs": [
    {
     "data": {
      "text/plain": [
       "Index(['householdID', 'est_inc_USD', 'est_netw_USD', 'hhold_field',\n",
       "       'hhold_oldest', 'hhold_pax', 'hhold_youngest', 'homeState', 'hhold_car',\n",
       "       'stream_subs', 'primary'],\n",
       "      dtype='object')"
      ]
     },
     "execution_count": 58,
     "metadata": {},
     "output_type": "execute_result"
    }
   ],
   "source": [
    "cv1.columns"
   ]
  },
  {
   "cell_type": "code",
   "execution_count": 59,
   "id": "dfdc9842",
   "metadata": {},
   "outputs": [],
   "source": [
    "cv1 = pd.get_dummies(cv1, drop_first=True, columns=['hhold_field','homeState','hhold_car']).astype(int)"
   ]
  },
  {
   "cell_type": "code",
   "execution_count": 60,
   "id": "b040f9b7",
   "metadata": {},
   "outputs": [
    {
     "data": {
      "text/plain": [
       "Index(['householdID', 'est_inc_USD', 'est_netw_USD', 'hhold_oldest',\n",
       "       'hhold_pax', 'hhold_youngest', 'stream_subs', 'primary',\n",
       "       'hhold_field_Finance', 'hhold_field_Govt', 'hhold_field_Manufacturing',\n",
       "       'hhold_field_Other', 'hhold_field_Services', 'hhold_field_Tech',\n",
       "       'homeState_Connecticut', 'homeState_Maine', 'homeState_Massachusetts',\n",
       "       'homeState_New Hampshire', 'homeState_New York', 'homeState_Ontario',\n",
       "       'homeState_Quebec', 'homeState_Rhode Island', 'homeState_US_Other',\n",
       "       'homeState_Vermont', 'hhold_car_LuxurySedan', 'hhold_car_Pickup',\n",
       "       'hhold_car_SUV', 'hhold_car_Sedan'],\n",
       "      dtype='object')"
      ]
     },
     "execution_count": 60,
     "metadata": {},
     "output_type": "execute_result"
    }
   ],
   "source": [
    "cv1.columns"
   ]
  },
  {
   "cell_type": "code",
   "execution_count": 61,
   "id": "a4f53c4d",
   "metadata": {},
   "outputs": [],
   "source": [
    "X=cv1[['est_inc_USD', 'est_netw_USD', 'hhold_oldest',\n",
    " 'hhold_pax', 'hhold_youngest', 'stream_subs', \n",
    " 'hhold_field_Finance', 'hhold_field_Govt', 'hhold_field_Manufacturing',\n",
    " 'hhold_field_Other', 'hhold_field_Services', 'hhold_field_Tech',\n",
    " 'homeState_Ontario',\n",
    " 'homeState_Quebec', 'homeState_US_Other',\n",
    " 'homeState_Vermont', 'hhold_car_LuxurySedan', 'hhold_car_Pickup',\n",
    " 'hhold_car_SUV', 'hhold_car_Sedan']]\n",
    "y=cv1['primary']\n",
    "X_train, X_test, y_train, y_test = train_test_split(X, y, test_size=0.4, random_state=24)"
   ]
  },
  {
   "cell_type": "code",
   "execution_count": 62,
   "id": "92d31340",
   "metadata": {},
   "outputs": [
    {
     "name": "stdout",
     "output_type": "stream",
     "text": [
      "Optimization terminated successfully.\n",
      "         Current function value: 0.612681\n",
      "         Iterations 5\n",
      "Optimization terminated successfully.\n",
      "         Current function value: 0.609360\n",
      "         Iterations 5\n"
     ]
    }
   ],
   "source": [
    "log_reg = sm.Logit(y_train, sm.add_constant(X_train)).fit()\n",
    "log_reg = sm.Logit(y_test, sm.add_constant(X_test)).fit()"
   ]
  },
  {
   "cell_type": "code",
   "execution_count": 63,
   "id": "25c923d4",
   "metadata": {},
   "outputs": [
    {
     "data": {
      "text/html": [
       "<table class=\"simpletable\">\n",
       "<caption>Logit Regression Results</caption>\n",
       "<tr>\n",
       "  <th>Dep. Variable:</th>        <td>primary</td>     <th>  No. Observations:  </th>   <td>  5780</td>  \n",
       "</tr>\n",
       "<tr>\n",
       "  <th>Model:</th>                 <td>Logit</td>      <th>  Df Residuals:      </th>   <td>  5759</td>  \n",
       "</tr>\n",
       "<tr>\n",
       "  <th>Method:</th>                 <td>MLE</td>       <th>  Df Model:          </th>   <td>    20</td>  \n",
       "</tr>\n",
       "<tr>\n",
       "  <th>Date:</th>            <td>Thu, 24 Aug 2023</td> <th>  Pseudo R-squ.:     </th>   <td>0.1154</td>  \n",
       "</tr>\n",
       "<tr>\n",
       "  <th>Time:</th>                <td>11:13:56</td>     <th>  Log-Likelihood:    </th>  <td> -3522.1</td> \n",
       "</tr>\n",
       "<tr>\n",
       "  <th>converged:</th>             <td>True</td>       <th>  LL-Null:           </th>  <td> -3981.5</td> \n",
       "</tr>\n",
       "<tr>\n",
       "  <th>Covariance Type:</th>     <td>nonrobust</td>    <th>  LLR p-value:       </th> <td>7.820e-182</td>\n",
       "</tr>\n",
       "</table>\n",
       "<table class=\"simpletable\">\n",
       "<tr>\n",
       "              <td></td>                 <th>coef</th>     <th>std err</th>      <th>z</th>      <th>P>|z|</th>  <th>[0.025</th>    <th>0.975]</th>  \n",
       "</tr>\n",
       "<tr>\n",
       "  <th>const</th>                     <td>    4.4785</td> <td>    0.387</td> <td>   11.585</td> <td> 0.000</td> <td>    3.721</td> <td>    5.236</td>\n",
       "</tr>\n",
       "<tr>\n",
       "  <th>est_inc_USD</th>               <td>-9.601e-06</td> <td> 1.69e-06</td> <td>   -5.665</td> <td> 0.000</td> <td>-1.29e-05</td> <td>-6.28e-06</td>\n",
       "</tr>\n",
       "<tr>\n",
       "  <th>est_netw_USD</th>              <td> 2.236e-06</td> <td> 5.56e-07</td> <td>    4.020</td> <td> 0.000</td> <td> 1.15e-06</td> <td> 3.33e-06</td>\n",
       "</tr>\n",
       "<tr>\n",
       "  <th>hhold_oldest</th>              <td>   -0.1094</td> <td>    0.006</td> <td>  -17.784</td> <td> 0.000</td> <td>   -0.121</td> <td>   -0.097</td>\n",
       "</tr>\n",
       "<tr>\n",
       "  <th>hhold_pax</th>                 <td>    0.0489</td> <td>    0.018</td> <td>    2.712</td> <td> 0.007</td> <td>    0.014</td> <td>    0.084</td>\n",
       "</tr>\n",
       "<tr>\n",
       "  <th>hhold_youngest</th>            <td>   -0.0072</td> <td>    0.004</td> <td>   -1.851</td> <td> 0.064</td> <td>   -0.015</td> <td>    0.000</td>\n",
       "</tr>\n",
       "<tr>\n",
       "  <th>stream_subs</th>               <td>    0.2429</td> <td>    0.017</td> <td>   14.252</td> <td> 0.000</td> <td>    0.209</td> <td>    0.276</td>\n",
       "</tr>\n",
       "<tr>\n",
       "  <th>hhold_field_Finance</th>       <td>   -0.8389</td> <td>    0.114</td> <td>   -7.380</td> <td> 0.000</td> <td>   -1.062</td> <td>   -0.616</td>\n",
       "</tr>\n",
       "<tr>\n",
       "  <th>hhold_field_Govt</th>          <td>   -1.0127</td> <td>    0.099</td> <td>  -10.231</td> <td> 0.000</td> <td>   -1.207</td> <td>   -0.819</td>\n",
       "</tr>\n",
       "<tr>\n",
       "  <th>hhold_field_Manufacturing</th> <td>   -0.2369</td> <td>    0.191</td> <td>   -1.240</td> <td> 0.215</td> <td>   -0.611</td> <td>    0.137</td>\n",
       "</tr>\n",
       "<tr>\n",
       "  <th>hhold_field_Other</th>         <td>   -0.4296</td> <td>    0.188</td> <td>   -2.283</td> <td> 0.022</td> <td>   -0.798</td> <td>   -0.061</td>\n",
       "</tr>\n",
       "<tr>\n",
       "  <th>hhold_field_Services</th>      <td>    0.2013</td> <td>    0.114</td> <td>    1.771</td> <td> 0.077</td> <td>   -0.021</td> <td>    0.424</td>\n",
       "</tr>\n",
       "<tr>\n",
       "  <th>hhold_field_Tech</th>          <td>   -0.5273</td> <td>    0.115</td> <td>   -4.575</td> <td> 0.000</td> <td>   -0.753</td> <td>   -0.301</td>\n",
       "</tr>\n",
       "<tr>\n",
       "  <th>homeState_Ontario</th>         <td>   -0.1264</td> <td>    0.129</td> <td>   -0.977</td> <td> 0.329</td> <td>   -0.380</td> <td>    0.127</td>\n",
       "</tr>\n",
       "<tr>\n",
       "  <th>homeState_Quebec</th>          <td>    0.0086</td> <td>    0.122</td> <td>    0.071</td> <td> 0.944</td> <td>   -0.230</td> <td>    0.247</td>\n",
       "</tr>\n",
       "<tr>\n",
       "  <th>homeState_US_Other</th>        <td>   -0.1840</td> <td>    0.147</td> <td>   -1.249</td> <td> 0.212</td> <td>   -0.473</td> <td>    0.105</td>\n",
       "</tr>\n",
       "<tr>\n",
       "  <th>homeState_Vermont</th>         <td>    0.0418</td> <td>    0.098</td> <td>    0.425</td> <td> 0.671</td> <td>   -0.151</td> <td>    0.235</td>\n",
       "</tr>\n",
       "<tr>\n",
       "  <th>hhold_car_LuxurySedan</th>     <td>    0.2381</td> <td>    0.115</td> <td>    2.074</td> <td> 0.038</td> <td>    0.013</td> <td>    0.463</td>\n",
       "</tr>\n",
       "<tr>\n",
       "  <th>hhold_car_Pickup</th>          <td>   -0.1644</td> <td>    0.132</td> <td>   -1.244</td> <td> 0.214</td> <td>   -0.424</td> <td>    0.095</td>\n",
       "</tr>\n",
       "<tr>\n",
       "  <th>hhold_car_SUV</th>             <td>   -0.0389</td> <td>    0.108</td> <td>   -0.359</td> <td> 0.720</td> <td>   -0.251</td> <td>    0.174</td>\n",
       "</tr>\n",
       "<tr>\n",
       "  <th>hhold_car_Sedan</th>           <td>    0.1104</td> <td>    0.117</td> <td>    0.941</td> <td> 0.347</td> <td>   -0.120</td> <td>    0.340</td>\n",
       "</tr>\n",
       "</table>"
      ],
      "text/latex": [
       "\\begin{center}\n",
       "\\begin{tabular}{lclc}\n",
       "\\toprule\n",
       "\\textbf{Dep. Variable:}              &     primary      & \\textbf{  No. Observations:  } &     5780    \\\\\n",
       "\\textbf{Model:}                      &      Logit       & \\textbf{  Df Residuals:      } &     5759    \\\\\n",
       "\\textbf{Method:}                     &       MLE        & \\textbf{  Df Model:          } &       20    \\\\\n",
       "\\textbf{Date:}                       & Thu, 24 Aug 2023 & \\textbf{  Pseudo R-squ.:     } &   0.1154    \\\\\n",
       "\\textbf{Time:}                       &     11:13:56     & \\textbf{  Log-Likelihood:    } &   -3522.1   \\\\\n",
       "\\textbf{converged:}                  &       True       & \\textbf{  LL-Null:           } &   -3981.5   \\\\\n",
       "\\textbf{Covariance Type:}            &    nonrobust     & \\textbf{  LLR p-value:       } & 7.820e-182  \\\\\n",
       "\\bottomrule\n",
       "\\end{tabular}\n",
       "\\begin{tabular}{lcccccc}\n",
       "                                     & \\textbf{coef} & \\textbf{std err} & \\textbf{z} & \\textbf{P$> |$z$|$} & \\textbf{[0.025} & \\textbf{0.975]}  \\\\\n",
       "\\midrule\n",
       "\\textbf{const}                       &       4.4785  &        0.387     &    11.585  &         0.000        &        3.721    &        5.236     \\\\\n",
       "\\textbf{est\\_inc\\_USD}               &   -9.601e-06  &     1.69e-06     &    -5.665  &         0.000        &    -1.29e-05    &    -6.28e-06     \\\\\n",
       "\\textbf{est\\_netw\\_USD}              &    2.236e-06  &     5.56e-07     &     4.020  &         0.000        &     1.15e-06    &     3.33e-06     \\\\\n",
       "\\textbf{hhold\\_oldest}               &      -0.1094  &        0.006     &   -17.784  &         0.000        &       -0.121    &       -0.097     \\\\\n",
       "\\textbf{hhold\\_pax}                  &       0.0489  &        0.018     &     2.712  &         0.007        &        0.014    &        0.084     \\\\\n",
       "\\textbf{hhold\\_youngest}             &      -0.0072  &        0.004     &    -1.851  &         0.064        &       -0.015    &        0.000     \\\\\n",
       "\\textbf{stream\\_subs}                &       0.2429  &        0.017     &    14.252  &         0.000        &        0.209    &        0.276     \\\\\n",
       "\\textbf{hhold\\_field\\_Finance}       &      -0.8389  &        0.114     &    -7.380  &         0.000        &       -1.062    &       -0.616     \\\\\n",
       "\\textbf{hhold\\_field\\_Govt}          &      -1.0127  &        0.099     &   -10.231  &         0.000        &       -1.207    &       -0.819     \\\\\n",
       "\\textbf{hhold\\_field\\_Manufacturing} &      -0.2369  &        0.191     &    -1.240  &         0.215        &       -0.611    &        0.137     \\\\\n",
       "\\textbf{hhold\\_field\\_Other}         &      -0.4296  &        0.188     &    -2.283  &         0.022        &       -0.798    &       -0.061     \\\\\n",
       "\\textbf{hhold\\_field\\_Services}      &       0.2013  &        0.114     &     1.771  &         0.077        &       -0.021    &        0.424     \\\\\n",
       "\\textbf{hhold\\_field\\_Tech}          &      -0.5273  &        0.115     &    -4.575  &         0.000        &       -0.753    &       -0.301     \\\\\n",
       "\\textbf{homeState\\_Ontario}          &      -0.1264  &        0.129     &    -0.977  &         0.329        &       -0.380    &        0.127     \\\\\n",
       "\\textbf{homeState\\_Quebec}           &       0.0086  &        0.122     &     0.071  &         0.944        &       -0.230    &        0.247     \\\\\n",
       "\\textbf{homeState\\_US\\_Other}        &      -0.1840  &        0.147     &    -1.249  &         0.212        &       -0.473    &        0.105     \\\\\n",
       "\\textbf{homeState\\_Vermont}          &       0.0418  &        0.098     &     0.425  &         0.671        &       -0.151    &        0.235     \\\\\n",
       "\\textbf{hhold\\_car\\_LuxurySedan}     &       0.2381  &        0.115     &     2.074  &         0.038        &        0.013    &        0.463     \\\\\n",
       "\\textbf{hhold\\_car\\_Pickup}          &      -0.1644  &        0.132     &    -1.244  &         0.214        &       -0.424    &        0.095     \\\\\n",
       "\\textbf{hhold\\_car\\_SUV}             &      -0.0389  &        0.108     &    -0.359  &         0.720        &       -0.251    &        0.174     \\\\\n",
       "\\textbf{hhold\\_car\\_Sedan}           &       0.1104  &        0.117     &     0.941  &         0.347        &       -0.120    &        0.340     \\\\\n",
       "\\bottomrule\n",
       "\\end{tabular}\n",
       "%\\caption{Logit Regression Results}\n",
       "\\end{center}"
      ],
      "text/plain": [
       "<class 'statsmodels.iolib.summary.Summary'>\n",
       "\"\"\"\n",
       "                           Logit Regression Results                           \n",
       "==============================================================================\n",
       "Dep. Variable:                primary   No. Observations:                 5780\n",
       "Model:                          Logit   Df Residuals:                     5759\n",
       "Method:                           MLE   Df Model:                           20\n",
       "Date:                Thu, 24 Aug 2023   Pseudo R-squ.:                  0.1154\n",
       "Time:                        11:13:56   Log-Likelihood:                -3522.1\n",
       "converged:                       True   LL-Null:                       -3981.5\n",
       "Covariance Type:            nonrobust   LLR p-value:                7.820e-182\n",
       "=============================================================================================\n",
       "                                coef    std err          z      P>|z|      [0.025      0.975]\n",
       "---------------------------------------------------------------------------------------------\n",
       "const                         4.4785      0.387     11.585      0.000       3.721       5.236\n",
       "est_inc_USD               -9.601e-06   1.69e-06     -5.665      0.000   -1.29e-05   -6.28e-06\n",
       "est_netw_USD               2.236e-06   5.56e-07      4.020      0.000    1.15e-06    3.33e-06\n",
       "hhold_oldest                 -0.1094      0.006    -17.784      0.000      -0.121      -0.097\n",
       "hhold_pax                     0.0489      0.018      2.712      0.007       0.014       0.084\n",
       "hhold_youngest               -0.0072      0.004     -1.851      0.064      -0.015       0.000\n",
       "stream_subs                   0.2429      0.017     14.252      0.000       0.209       0.276\n",
       "hhold_field_Finance          -0.8389      0.114     -7.380      0.000      -1.062      -0.616\n",
       "hhold_field_Govt             -1.0127      0.099    -10.231      0.000      -1.207      -0.819\n",
       "hhold_field_Manufacturing    -0.2369      0.191     -1.240      0.215      -0.611       0.137\n",
       "hhold_field_Other            -0.4296      0.188     -2.283      0.022      -0.798      -0.061\n",
       "hhold_field_Services          0.2013      0.114      1.771      0.077      -0.021       0.424\n",
       "hhold_field_Tech             -0.5273      0.115     -4.575      0.000      -0.753      -0.301\n",
       "homeState_Ontario            -0.1264      0.129     -0.977      0.329      -0.380       0.127\n",
       "homeState_Quebec              0.0086      0.122      0.071      0.944      -0.230       0.247\n",
       "homeState_US_Other           -0.1840      0.147     -1.249      0.212      -0.473       0.105\n",
       "homeState_Vermont             0.0418      0.098      0.425      0.671      -0.151       0.235\n",
       "hhold_car_LuxurySedan         0.2381      0.115      2.074      0.038       0.013       0.463\n",
       "hhold_car_Pickup             -0.1644      0.132     -1.244      0.214      -0.424       0.095\n",
       "hhold_car_SUV                -0.0389      0.108     -0.359      0.720      -0.251       0.174\n",
       "hhold_car_Sedan               0.1104      0.117      0.941      0.347      -0.120       0.340\n",
       "=============================================================================================\n",
       "\"\"\""
      ]
     },
     "execution_count": 63,
     "metadata": {},
     "output_type": "execute_result"
    }
   ],
   "source": [
    "log_reg.summary()"
   ]
  },
  {
   "cell_type": "markdown",
   "id": "9dd430c7",
   "metadata": {},
   "source": [
    "After building the model the above summary indicates some high p-value of some the variable in which the homestate_quebec have maximum p-value which\n",
    "can brings lots of reson behind this but the most impactable is the different country as it's hard to travel all the way from canada or the time, fuel, resorces\n",
    "would be extra as compared to people live nearby and finally it does not give much statistical significance to the model.\n"
   ]
  },
  {
   "cell_type": "markdown",
   "id": "302e8cb0",
   "metadata": {},
   "source": [
    "## Predicting the model"
   ]
  },
  {
   "cell_type": "code",
   "execution_count": 64,
   "id": "d60c4238",
   "metadata": {},
   "outputs": [
    {
     "data": {
      "text/plain": [
       "KNeighborsClassifier()"
      ]
     },
     "execution_count": 64,
     "metadata": {},
     "output_type": "execute_result"
    }
   ],
   "source": [
    "classifier = KNeighborsClassifier(n_neighbors=5)\n",
    "classifier.fit(X_train, y_train)"
   ]
  },
  {
   "cell_type": "code",
   "execution_count": 65,
   "id": "350165c5",
   "metadata": {},
   "outputs": [
    {
     "name": "stdout",
     "output_type": "stream",
     "text": [
      "0.5271626297577855\n",
      "[[1177 1445]\n",
      " [1288 1870]]\n",
      "              precision    recall  f1-score   support\n",
      "\n",
      "           0       0.48      0.45      0.46      2622\n",
      "           1       0.56      0.59      0.58      3158\n",
      "\n",
      "    accuracy                           0.53      5780\n",
      "   macro avg       0.52      0.52      0.52      5780\n",
      "weighted avg       0.52      0.53      0.53      5780\n",
      "\n"
     ]
    }
   ],
   "source": [
    "knn = KNeighborsClassifier()\n",
    "knn.fit(X_train, y_train)\n",
    "predictions = knn.predict(X_test) \n",
    "print(accuracy_score(y_test, predictions))\n",
    "print(confusion_matrix(y_test, predictions)) \n",
    "print(classification_report(y_test, predictions))"
   ]
  },
  {
   "cell_type": "markdown",
   "id": "4af19988",
   "metadata": {},
   "source": [
    "In this model we can identify that the accuracy score is 53% and sensitivity rate is 59% with the specificity rate is 45% through which we can conclude that\n",
    "the balanced accuracy of the model is sensitivity+specificity/2 which would be 52%."
   ]
  },
  {
   "cell_type": "markdown",
   "id": "25c8649e",
   "metadata": {},
   "source": [
    "### Predicting the model through decision tree classification"
   ]
  },
  {
   "cell_type": "code",
   "execution_count": 66,
   "id": "25ff7851",
   "metadata": {},
   "outputs": [
    {
     "name": "stdout",
     "output_type": "stream",
     "text": [
      "0.6252595155709343\n",
      "[[1575 1047]\n",
      " [1119 2039]]\n",
      "              precision    recall  f1-score   support\n",
      "\n",
      "           0       0.58      0.60      0.59      2622\n",
      "           1       0.66      0.65      0.65      3158\n",
      "\n",
      "    accuracy                           0.63      5780\n",
      "   macro avg       0.62      0.62      0.62      5780\n",
      "weighted avg       0.63      0.63      0.63      5780\n",
      "\n"
     ]
    }
   ],
   "source": [
    "dtc = DecisionTreeClassifier()\n",
    "dtc.fit(X_train, y_train)\n",
    "predictions = dtc.predict(X_test) \n",
    "print(accuracy_score(y_test, predictions))\n",
    "print(confusion_matrix(y_test, predictions)) \n",
    "print(classification_report(y_test, predictions))"
   ]
  },
  {
   "cell_type": "markdown",
   "id": "f9f38bef",
   "metadata": {},
   "source": [
    "We have predicted the model again with decision tree classifier as it works for both continuous as well as categorical output variables and also this suggest\n",
    "our team to determine the potential and primary purpose of the visitors to visit in winter carnival for either consume or entertain purpose and in this model we\n",
    "can identify that the accuracy score is 62% and sensitivity rate is 64% with the specificity rate is 59% through which we can conclude that the balanced\n",
    "accuracy of the model is sensitivity+specificity/2 which would be 62%."
   ]
  },
  {
   "cell_type": "markdown",
   "id": "0910aa78",
   "metadata": {},
   "source": [
    "### Accuracy of train and test set"
   ]
  },
  {
   "cell_type": "code",
   "execution_count": 67,
   "id": "b6b9af8f",
   "metadata": {},
   "outputs": [
    {
     "data": {
      "text/plain": [
       "LogisticRegression(max_iter=500)"
      ]
     },
     "execution_count": 67,
     "metadata": {},
     "output_type": "execute_result"
    }
   ],
   "source": [
    "y_predict = classifier.predict(X_test)\n",
    "logmodel = LogisticRegression(max_iter=500)\n",
    "logmodel.fit(X_train, y_train)"
   ]
  },
  {
   "cell_type": "code",
   "execution_count": 68,
   "id": "a7f930ff",
   "metadata": {},
   "outputs": [
    {
     "data": {
      "text/plain": [
       "0.586159169550173"
      ]
     },
     "execution_count": 68,
     "metadata": {},
     "output_type": "execute_result"
    }
   ],
   "source": [
    "predictions = logmodel.predict(X_test)\n",
    "accuracy_score(y_test, predictions)"
   ]
  },
  {
   "cell_type": "code",
   "execution_count": 69,
   "id": "3b9e1d63",
   "metadata": {},
   "outputs": [
    {
     "name": "stdout",
     "output_type": "stream",
     "text": [
      "0.573537893644019\n"
     ]
    }
   ],
   "source": [
    "predictions = logmodel.predict(X_train)\n",
    "print(metrics.accuracy_score(y_train,predictions))"
   ]
  },
  {
   "cell_type": "markdown",
   "id": "98beb6b1",
   "metadata": {},
   "source": [
    "In this section we can observe that the accuracy score of testing set is 0.5862 and on other hand the accracy score of training set is 0.5735."
   ]
  },
  {
   "cell_type": "code",
   "execution_count": 70,
   "id": "8e9e8247",
   "metadata": {},
   "outputs": [
    {
     "data": {
      "image/png": "[encoded data removed]",
      "text/plain": [
       "<Figure size 432x288 with 1 Axes>"
      ]
     },
     "metadata": {
      "needs_background": "light"
     },
     "output_type": "display_data"
    }
   ],
   "source": [
    "%matplotlib inline\n",
    "predictions = logmodel.predict(X_test)\n",
    "mat = confusion_matrix(y_test, predictions)\n",
    "sns.heatmap(mat, fmt='g', square=True, annot=True, cbar=False)\n",
    "a, b = plt.ylim() \n",
    "a += 0.5\n",
    "b -= 0.5\n",
    "plt.ylim(a, b)\n",
    "plt.show()"
   ]
  },
  {
   "cell_type": "markdown",
   "id": "e9f09728",
   "metadata": {},
   "source": [
    "The number 821 corresponds to the number of visitors who were correctly predicted by the model who visit the winter carnival with\n",
    "mood of consuming the food and drinks and enjoy the evening , meaning they will contribute more towards carnival merchandise and snack stores that can\n",
    "generate stronger revenue model \n",
    "\n",
    "The number 2567 corresponds to the number of visitors that the model correctly predicted to visit the winter carnival with\n",
    "entertain purpose and experience the amazing live performance, comedy shows and competitions that will create thrill and excitement among the visitors and\n",
    "probably they'll refer and recommend theirs friends and neighbours to visit the winter carnival that will also simultaneously increase the visitors traffic and profit\n",
    "margin of the park. \n",
    "\n",
    "The analysis of the confusion matrix model and the p-values for all variables suggests that visitors are more inclined to attend the winter carnival for entertainment purposes. They value the experience of witnessing thrilling competitions and live performances, cherishing memorable moments. Additionally, there's room for improvement in the food section. Introducing attractive discount offers and bundle deals could enhance the overall visitor experience and encourage them to spend more at the park.\n",
    "\n",
    "While these are key findings, there could be other factors influencing visits. Some individuals might be nearby residents seeking a break from screens, while others might be lured by one-day pass promotions. In essence, the winter carnival caters to various customer segments. The main focus is to boost the park's popularity and revenue model, acknowledging different visitor priorities and preferences.\n"
   ]
  },
  {
   "cell_type": "markdown",
   "id": "0a874baf",
   "metadata": {},
   "source": [
    "# A/B Testing\n"
   ]
  },
  {
   "cell_type": "code",
   "execution_count": 71,
   "id": "4d8cc113",
   "metadata": {},
   "outputs": [
    {
     "data": {
      "text/html": [
       "<div>\n",
       "<style scoped>\n",
       "    .dataframe tbody tr th:only-of-type {\n",
       "        vertical-align: middle;\n",
       "    }\n",
       "\n",
       "    .dataframe tbody tr th {\n",
       "        vertical-align: top;\n",
       "    }\n",
       "\n",
       "    .dataframe thead th {\n",
       "        text-align: right;\n",
       "    }\n",
       "</style>\n",
       "<table border=\"1\" class=\"dataframe\">\n",
       "  <thead>\n",
       "    <tr style=\"text-align: right;\">\n",
       "      <th></th>\n",
       "      <th>recipient</th>\n",
       "      <th>pic_seen</th>\n",
       "      <th>site_duration</th>\n",
       "      <th>spend</th>\n",
       "      <th>register</th>\n",
       "    </tr>\n",
       "  </thead>\n",
       "  <tbody>\n",
       "    <tr>\n",
       "      <th>0</th>\n",
       "      <td>1</td>\n",
       "      <td>Racers in Action</td>\n",
       "      <td>18.20</td>\n",
       "      <td>16.60</td>\n",
       "      <td>0</td>\n",
       "    </tr>\n",
       "    <tr>\n",
       "      <th>1</th>\n",
       "      <td>2</td>\n",
       "      <td>Starting Line</td>\n",
       "      <td>28.61</td>\n",
       "      <td>15.30</td>\n",
       "      <td>0</td>\n",
       "    </tr>\n",
       "    <tr>\n",
       "      <th>2</th>\n",
       "      <td>3</td>\n",
       "      <td>Sharp Turn</td>\n",
       "      <td>10.90</td>\n",
       "      <td>16.32</td>\n",
       "      <td>1</td>\n",
       "    </tr>\n",
       "    <tr>\n",
       "      <th>3</th>\n",
       "      <td>4</td>\n",
       "      <td>Sharp Turn</td>\n",
       "      <td>11.30</td>\n",
       "      <td>22.62</td>\n",
       "      <td>0</td>\n",
       "    </tr>\n",
       "    <tr>\n",
       "      <th>4</th>\n",
       "      <td>5</td>\n",
       "      <td>Racers in Action</td>\n",
       "      <td>19.70</td>\n",
       "      <td>17.30</td>\n",
       "      <td>0</td>\n",
       "    </tr>\n",
       "  </tbody>\n",
       "</table>\n",
       "</div>"
      ],
      "text/plain": [
       "   recipient          pic_seen  site_duration  spend  register\n",
       "0          1  Racers in Action          18.20  16.60         0\n",
       "1          2     Starting Line          28.61  15.30         0\n",
       "2          3        Sharp Turn          10.90  16.32         1\n",
       "3          4        Sharp Turn          11.30  22.62         0\n",
       "4          5  Racers in Action          19.70  17.30         0"
      ]
     },
     "execution_count": 71,
     "metadata": {},
     "output_type": "execute_result"
    }
   ],
   "source": [
    "sp = pd.read_csv(r'snowmobile_pics.csv')\n",
    "sp.head()"
   ]
  },
  {
   "cell_type": "code",
   "execution_count": 72,
   "id": "c819e92a",
   "metadata": {},
   "outputs": [
    {
     "data": {
      "text/html": [
       "<div>\n",
       "<style scoped>\n",
       "    .dataframe tbody tr th:only-of-type {\n",
       "        vertical-align: middle;\n",
       "    }\n",
       "\n",
       "    .dataframe tbody tr th {\n",
       "        vertical-align: top;\n",
       "    }\n",
       "\n",
       "    .dataframe thead th {\n",
       "        text-align: right;\n",
       "    }\n",
       "</style>\n",
       "<table border=\"1\" class=\"dataframe\">\n",
       "  <thead>\n",
       "    <tr style=\"text-align: right;\">\n",
       "      <th></th>\n",
       "      <th>recipient</th>\n",
       "      <th>site_duration</th>\n",
       "      <th>spend</th>\n",
       "      <th>register</th>\n",
       "    </tr>\n",
       "    <tr>\n",
       "      <th>pic_seen</th>\n",
       "      <th></th>\n",
       "      <th></th>\n",
       "      <th></th>\n",
       "      <th></th>\n",
       "    </tr>\n",
       "  </thead>\n",
       "  <tbody>\n",
       "    <tr>\n",
       "      <th>Racers in Action</th>\n",
       "      <td>1693.945946</td>\n",
       "      <td>22.949189</td>\n",
       "      <td>16.781892</td>\n",
       "      <td>0.440541</td>\n",
       "    </tr>\n",
       "    <tr>\n",
       "      <th>Sharp Turn</th>\n",
       "      <td>1734.473730</td>\n",
       "      <td>10.975394</td>\n",
       "      <td>18.606778</td>\n",
       "      <td>0.348511</td>\n",
       "    </tr>\n",
       "    <tr>\n",
       "      <th>Starting Line</th>\n",
       "      <td>1673.040941</td>\n",
       "      <td>24.294059</td>\n",
       "      <td>14.016289</td>\n",
       "      <td>0.341463</td>\n",
       "    </tr>\n",
       "  </tbody>\n",
       "</table>\n",
       "</div>"
      ],
      "text/plain": [
       "                    recipient  site_duration      spend  register\n",
       "pic_seen                                                         \n",
       "Racers in Action  1693.945946      22.949189  16.781892  0.440541\n",
       "Sharp Turn        1734.473730      10.975394  18.606778  0.348511\n",
       "Starting Line     1673.040941      24.294059  14.016289  0.341463"
      ]
     },
     "execution_count": 72,
     "metadata": {},
     "output_type": "execute_result"
    }
   ],
   "source": [
    "sp.groupby('pic_seen').mean()"
   ]
  },
  {
   "cell_type": "markdown",
   "id": "ee32fdee",
   "metadata": {},
   "source": [
    "Set alpha threshhold to be .05 for all comparisons.\n"
   ]
  },
  {
   "cell_type": "markdown",
   "id": "a467c38e",
   "metadata": {},
   "source": [
    "## Situation I\n",
    "lobster Land prioritizing the kpi \"register\""
   ]
  },
  {
   "cell_type": "markdown",
   "id": "4a8f9595",
   "metadata": {},
   "source": [
    "### i. Pic: Racers in Action vs. Pic: Sharp Turn\n",
    "        \n",
    "The null hypothesis H0 is that Pic: Racers in Action and Pic: Sharp Turn are equally effective at \"register\"."
   ]
  },
  {
   "cell_type": "code",
   "execution_count": 73,
   "id": "bd294d28",
   "metadata": {},
   "outputs": [
    {
     "name": "stdout",
     "output_type": "stream",
     "text": [
      "t-value is equal to 4.48659813805182, p-value is equal to 7.6013670601284866e-06\n"
     ]
    }
   ],
   "source": [
    "group_a = sp.loc[sp['pic_seen'] == 'Racers in Action', 'register'].values\n",
    "group_b = sp.loc[sp['pic_seen'] == 'Sharp Turn', 'register'].values\n",
    "\n",
    "t_statistic, p_value = stats.ttest_ind(group_a, group_b)\n",
    "print(f't-value is equal to {t_statistic}, p-value is equal to {p_value}')"
   ]
  },
  {
   "cell_type": "markdown",
   "id": "e77120e0",
   "metadata": {},
   "source": [
    "Since the p-value for our t-test is less than .05, we reject the null hypothesis that Pic: Racers in Action and Pic: Sharp Turn are equally effective at \"register\".\n",
    "Furthermore, 44.05% recipients who received \"Racers in Action\" registered but only 34.85% recipents who received \"Sharp Turn\" registered.\n",
    "Therefore, we can conclude that \"Racers in Action\" is more effective than \"Sharp Turn\" at the kpi \"register\"."
   ]
  },
  {
   "cell_type": "markdown",
   "id": "9f02fc7c",
   "metadata": {},
   "source": [
    "### ii. Pic: Racers in Action vs. Pic: Starting Line\n",
    "\n",
    "The null hypothesis H0 is that Pic: Racers in Action and Pic: Starting Line are equally effective at \"register\"."
   ]
  },
  {
   "cell_type": "code",
   "execution_count": 74,
   "id": "3f78d44a",
   "metadata": {},
   "outputs": [
    {
     "name": "stdout",
     "output_type": "stream",
     "text": [
      "t-value is equal to 4.8480946527362345, p-value is equal to 1.331438616096751e-06\n"
     ]
    }
   ],
   "source": [
    "group_a = sp.loc[sp['pic_seen'] == 'Racers in Action', 'register'].values\n",
    "group_b = sp.loc[sp['pic_seen'] == 'Starting Line', 'register'].values\n",
    "\n",
    "t_statistic, p_value = stats.ttest_ind(group_a, group_b)\n",
    "print(f't-value is equal to {t_statistic}, p-value is equal to {p_value}')"
   ]
  },
  {
   "cell_type": "markdown",
   "id": "d1dba599",
   "metadata": {},
   "source": [
    "Since the p-value for our t-test is less than .05, we reject the null hypothesis that Pic: Racers in Action and Pic: Starting are equally effective at \"register\".\n",
    "Furthermore, 44.05% recipients who received \"Racers in Action\" registered but only 34.15% recipents who received \"Starting Line\" registered.\n",
    "Therefore, we can conclude that \"Racers in Action\" is more effective than \"Starting Line\" at the kpi \"register\".\n"
   ]
  },
  {
   "cell_type": "markdown",
   "id": "c3453a33",
   "metadata": {},
   "source": [
    "### iii. Pic: Sharp Turn vs. Pic: Starting Line\n",
    "        \n",
    "The null hypothesis H0 is that Pic: Sharp Turn and Pic: Starting Line are equally effective at \"register\".\n"
   ]
  },
  {
   "cell_type": "code",
   "execution_count": 75,
   "id": "5b97d5cb",
   "metadata": {},
   "outputs": [
    {
     "name": "stdout",
     "output_type": "stream",
     "text": [
      "t-value is equal to 0.35460817550947715, p-value is equal to 0.7229158305143963\n"
     ]
    }
   ],
   "source": [
    "group_a = sp.loc[sp['pic_seen'] == 'Sharp Turn', 'register'].values\n",
    "group_b = sp.loc[sp['pic_seen'] == 'Starting Line', 'register'].values\n",
    "\n",
    "t_statistic, p_value = stats.ttest_ind(group_a, group_b)\n",
    "print(f't-value is equal to {t_statistic}, p-value is equal to {p_value}')"
   ]
  },
  {
   "cell_type": "markdown",
   "id": "9e2ed3ad",
   "metadata": {},
   "source": [
    "Since the p-value for our t-test is more than .05, we fail to reject the null hypothesis that Pic: Sharp Turn and Pic: Starting are equally effective at \"register\".\n",
    "Furthermore, 34.85% recipients who received \"Sharp Turn\" registered and 34.15% recipents who received \"Starting Line\" registered. These two\n",
    "percentages are indeed pretty close.\n",
    "Therefore, we can conclude that Pic: Sharp Turn and Pic: Starting Line are equally effective at the kpi \"register\".\n",
    "In summary, for the kpi \"register\", \"Racers in Action\" > \"Sharp Turn\" = \"Starting Line\""
   ]
  },
  {
   "cell_type": "markdown",
   "id": "d12ecd27",
   "metadata": {},
   "source": [
    "## Situation II\n",
    "Lobster Land prioritizing the kpi site_duration\n",
    "\n",
    "### i. Pic: Racers in Action vs. Pic: Sharp Turn\n",
    "        \n",
    "The null hypothesis H0 is that Pic: Racers in Action and Pic: Sharp Turn are equally effective at \"site_duration\".\n"
   ]
  },
  {
   "cell_type": "code",
   "execution_count": 76,
   "id": "a5399baa",
   "metadata": {},
   "outputs": [
    {
     "name": "stdout",
     "output_type": "stream",
     "text": [
      "t-value is equal to 180.71977956194002, p-value is equal to 0.0\n"
     ]
    }
   ],
   "source": [
    "group_a = sp.loc[sp['pic_seen'] == 'Racers in Action', 'site_duration'].values\n",
    "group_b = sp.loc[sp['pic_seen'] == 'Sharp Turn', 'site_duration'].values\n",
    "\n",
    "t_statistic, p_value = stats.ttest_ind(group_a, group_b)\n",
    "print(f't-value is equal to {t_statistic}, p-value is equal to {p_value}')"
   ]
  },
  {
   "cell_type": "markdown",
   "id": "9172f45c",
   "metadata": {},
   "source": [
    "Since the p-value for our t-test is less than .05, we reject the null hypothesis that Pic: Racers in Action and Pic: Sharp Turn are equally effective at\n",
    "\"site_duration\".\n",
    "Also, since the mean of site_duration for Racers in Action is 22.95 and the mean of site_duration for Sharp Turn is 10.98, we can conclude that Racers in\n",
    "Action is more effective than Sharp Turn at site_duration."
   ]
  },
  {
   "cell_type": "markdown",
   "id": "4904c77d",
   "metadata": {},
   "source": [
    "### ii. Pic: Racers in Action vs. Pic: Starting Line\n",
    "\n",
    "The null hypothesis H0 is that Pic: Racers in Action and Pic: Starting Line are equally effective at \"site_duration\".\n"
   ]
  },
  {
   "cell_type": "code",
   "execution_count": 77,
   "id": "ee7282e0",
   "metadata": {},
   "outputs": [
    {
     "name": "stdout",
     "output_type": "stream",
     "text": [
      "t-value is equal to -9.911415184705456, p-value is equal to 1.0724418388111107e-22\n"
     ]
    }
   ],
   "source": [
    "group_a = sp.loc[sp['pic_seen'] == 'Racers in Action', 'site_duration'].values\n",
    "group_b = sp.loc[sp['pic_seen'] == 'Starting Line', 'site_duration'].values\n",
    "\n",
    "t_statistic, p_value = stats.ttest_ind(group_a, group_b)\n",
    "print(f't-value is equal to {t_statistic}, p-value is equal to {p_value}')"
   ]
  },
  {
   "cell_type": "markdown",
   "id": "f515560c",
   "metadata": {},
   "source": [
    "Since the p-value for our t-test is less than .05, we reject the null hypothesis that Pic: Racers in Action and Pic: Starting Line are equally effective at\n",
    "\"site_duration\".\n",
    "Also, since the mean of site_duration for Racers in Action is 22.95 and the mean of site_duration for Starting Line is 24.29, we can conclude that Racers in\n",
    "Action is less effective than Starting Line at site_duration."
   ]
  },
  {
   "cell_type": "markdown",
   "id": "4ce2d3d4",
   "metadata": {},
   "source": [
    "### iii. Pic: Sharp Turn vs. Pic: Starting Line\n",
    "\n",
    "The null hypothesis H0 is that Pic: Sharp Turn and Pic: Starting Line are equally effective at \"site_duration\""
   ]
  },
  {
   "cell_type": "code",
   "execution_count": 78,
   "id": "6474d75b",
   "metadata": {},
   "outputs": [
    {
     "name": "stdout",
     "output_type": "stream",
     "text": [
      "t-value is equal to -112.12607762440105, p-value is equal to 0.0\n"
     ]
    }
   ],
   "source": [
    "group_a = sp.loc[sp['pic_seen'] == 'Sharp Turn', 'site_duration'].values\n",
    "group_b = sp.loc[sp['pic_seen'] == 'Starting Line', 'site_duration'].values\n",
    "\n",
    "t_statistic, p_value = stats.ttest_ind(group_a, group_b)\n",
    "print(f't-value is equal to {t_statistic}, p-value is equal to {p_value}')"
   ]
  },
  {
   "cell_type": "markdown",
   "id": "65f5d25e",
   "metadata": {},
   "source": [
    "Since the p-value for our t-test is less than .05, we reject the null hypothesis that Pic: Sharp Turn and Pic: Starting Line are equally effective at \"site_duration\".\n",
    "Also, since the mean of site_duration for Sharp Turn is 10.98 and the mean of site_duration for Starting Line is 24.29, we can conclude that Sharp Turn is less\n",
    "effective than Starting Line at site_duration.\n",
    "\n",
    "In summary, for the kpi site_duration, Starting Line > Racers in Action > Sharp Turn"
   ]
  },
  {
   "cell_type": "markdown",
   "id": "518e7e31",
   "metadata": {},
   "source": [
    "## Situation III\n",
    "Lobster Land prioritizing the kpi \"spend\"\n",
    "\n",
    "### i. Pic: Racers in Action vs. Pic: Sharp Turn\n",
    "\n",
    "The null hypothesis H0 is that Pic: Racers in Action and Pic: Sharp Turn are equally effective at \"spend\""
   ]
  },
  {
   "cell_type": "code",
   "execution_count": 79,
   "id": "dcbbd3cb",
   "metadata": {},
   "outputs": [
    {
     "name": "stdout",
     "output_type": "stream",
     "text": [
      "t-value is equal to -23.596074151014385, p-value is equal to 3.5328205740249146e-110\n"
     ]
    }
   ],
   "source": [
    "group_a = sp.loc[sp['pic_seen'] == 'Racers in Action', 'spend'].values\n",
    "group_b = sp.loc[sp['pic_seen'] == 'Sharp Turn', 'spend'].values\n",
    "\n",
    "t_statistic, p_value = stats.ttest_ind(group_a, group_b)\n",
    "print(f't-value is equal to {t_statistic}, p-value is equal to {p_value}')"
   ]
  },
  {
   "cell_type": "markdown",
   "id": "203b2069",
   "metadata": {},
   "source": [
    "Since the p-value for our t-test is less than .05, we reject the null hypothesis that Pic: Racers in Action and Pic: Sharp Turn are equally effective at \"spend\".\n",
    "Also, since the mean of spend for Racers in Action is 16.78 and the mean of spend for Sharp Turn is 18.61, we can conclude that Racers in Action is less\n",
    "effective than Sharp Turn at spend.\n",
    "\n",
    "### ii. Pic: Racers in Action vs. Pic: Starting Line\n",
    "\n",
    "The null hypothesis H0 is that Pic: Racers in Action and Pic: Starting Line are equally effective at \"spend\"."
   ]
  },
  {
   "cell_type": "code",
   "execution_count": 80,
   "id": "a0d4e01f",
   "metadata": {},
   "outputs": [
    {
     "name": "stdout",
     "output_type": "stream",
     "text": [
      "t-value is equal to 40.53370629078891, p-value is equal to 2.4333914152341534e-270\n"
     ]
    }
   ],
   "source": [
    "group_a = sp.loc[sp['pic_seen'] == 'Racers in Action', 'spend'].values\n",
    "group_b = sp.loc[sp['pic_seen'] == 'Starting Line', 'spend'].values\n",
    "\n",
    "t_statistic, p_value = stats.ttest_ind(group_a, group_b)\n",
    "print(f't-value is equal to {t_statistic}, p-value is equal to {p_value}')"
   ]
  },
  {
   "cell_type": "markdown",
   "id": "ae963c95",
   "metadata": {},
   "source": [
    "Since the p-value for our t-test is less than .05, we reject the null hypothesis that Pic: Racers in Action and Pic: Starting Line are equally effective at \"spend\".\n",
    "Also, since the mean of spend for Racers in Action is 16.78 and the mean of spend for Starting Line is 14.02, we can conclude that Racers in Action is more\n",
    "effective than Starting Line at spend.\n",
    "\n",
    "In summary, for the kpi \"spend\", we have Sharp Turn > Racers in Action > Starting Line\n"
   ]
  },
  {
   "cell_type": "markdown",
   "id": "5052c319",
   "metadata": {},
   "source": [
    "## Putting every kpi comparison together, we have:\n",
    "    \n",
    "### For the kpi register: Racers in Action > Sharp Turn = Starting Line\n",
    "### For the kpi site_duration: Starting Line > Racers in Action > Sharp Turn\n",
    "### For the kpi spend: we have Sharp Turn > Racers in Action > Starting Line"
   ]
  },
  {
   "cell_type": "markdown",
   "id": "d16a77df",
   "metadata": {},
   "source": [
    "### Recommendation to Lobster Land\n",
    "\n",
    "If Lobster Land can prioritize a specific kpi, it be be easier for it to choose what picture to use based on above summary.However, if Lobster Land has to choose a pic to use without targetting a specific kpi, I'd recommendation it to choose \"Racers in Action\" as \"Racers in Action\"\n",
    "performs the best in general."
   ]
  },
  {
   "cell_type": "code",
   "execution_count": null,
   "id": "0b822b9c",
   "metadata": {},
   "outputs": [],
   "source": []
  }
 ],
 "metadata": {
  "kernelspec": {
   "display_name": "Python 3 (ipykernel)",
   "language": "python",
   "name": "python3"
  },
  "language_info": {
   "codemirror_mode": {
    "name": "ipython",
    "version": 3
   },
   "file_extension": ".py",
   "mimetype": "text/x-python",
   "name": "python",
   "nbconvert_exporter": "python",
   "pygments_lexer": "ipython3",
   "version": "3.9.7"
  }
 },
 "nbformat": 4,
 "nbformat_minor": 5
}
